{
 "cells": [
  {
   "cell_type": "code",
   "execution_count": 6,
   "metadata": {},
   "outputs": [],
   "source": [
    "import pandas as pd\n",
    "import numpy as np"
   ]
  },
  {
   "cell_type": "markdown",
   "metadata": {},
   "source": [
    "### Initial portfolio"
   ]
  },
  {
   "cell_type": "code",
   "execution_count": 7,
   "metadata": {},
   "outputs": [],
   "source": [
    "ranks = pd.read_excel(\"files/ranks0.xlsx\", index_col=0)\n",
    "ranks = ranks.squeeze()\n",
    "\n",
    "prices = pd.read_excel(\"files/prices0.xlsx\", index_col=0)\n",
    "prices = prices.squeeze()\n",
    "\n",
    "equity = cash = 100000\n",
    "weight = 0.2\n",
    "\n",
    "buys = ranks<=5\n",
    "buyamounts = (weight*equity/prices).astype(int)\n",
    "\n",
    "trades = np.where(buys, buyamounts, 0)\n",
    "trades = pd.Series(trades, index=ranks.index)\n",
    "\n",
    "positions = trades\n",
    "cash -= (trades*prices).sum()"
   ]
  },
  {
   "cell_type": "markdown",
   "metadata": {},
   "source": [
    "### Update portfolio"
   ]
  },
  {
   "cell_type": "code",
   "execution_count": 8,
   "metadata": {},
   "outputs": [],
   "source": [
    "ranks = pd.read_excel(\"files/ranks1.xlsx\", index_col=0)\n",
    "ranks = ranks.squeeze()\n",
    "\n",
    "prices = pd.read_excel(\"files/prices1.xlsx\", index_col=0)\n",
    "prices = prices.squeeze()\n",
    "\n",
    "positions = pd.read_excel(\"files/positions.xlsx\", index_col=0)\n",
    "positions = positions.squeeze()\n",
    "\n",
    "equity = cash + (positions*prices).sum()\n",
    "weights = (positions*prices) / equity\n",
    "\n",
    "sellall = (ranks>10) & (positions !=0)\n",
    "sellallamounts = positions\n",
    "sellsome = (ranks<=10) & (weights>0.2)\n",
    "sellsomeamounts = (equity*(weights-0.2)/prices).astype(int)\n",
    "\n",
    "trades = - np.where(sellall, sellallamounts, 0)\n",
    "trades -= np.where(sellsome, sellsomeamounts, 0)\n",
    "trades = pd.Series(trades, index=ranks.index)\n",
    "\n",
    "cash -= (trades*prices).sum()\n",
    "\n",
    "buyamounts = (weight*equity/prices).astype(int)\n",
    "\n",
    "sorted = ranks[positions==0].sort_values().index.to_list()\n",
    "\n",
    "while cash > weight*equity:\n",
    "    tick = sorted.pop(0)\n",
    "    trades[tick] = buyamounts[tick]\n",
    "    cash -= trades[tick]*prices[tick]\n",
    "\n",
    "tick = sorted.pop(0)\n",
    "trades[tick] = int(cash/prices[tick])\n",
    "cash -= trades[tick]*prices[tick]\n",
    "\n",
    "positions += trades"
   ]
  },
  {
   "cell_type": "code",
   "execution_count": 9,
   "metadata": {},
   "outputs": [
    {
     "data": {
      "text/plain": [
       "A      0\n",
       "B    401\n",
       "C      0\n",
       "D    -40\n",
       "E      0\n",
       "F      0\n",
       "G      0\n",
       "H      0\n",
       "I      0\n",
       "J     -6\n",
       "K      0\n",
       "L      0\n",
       "M      0\n",
       "N     21\n",
       "O   -481\n",
       "P      0\n",
       "Q      0\n",
       "R      0\n",
       "S      0\n",
       "T      0\n",
       "U      0\n",
       "V      0\n",
       "W      0\n",
       "X      0\n",
       "Y      0\n",
       "Z      0\n",
       "dtype: int64"
      ]
     },
     "execution_count": 9,
     "metadata": {},
     "output_type": "execute_result"
    }
   ],
   "source": [
    "trades"
   ]
  }
 ],
 "metadata": {
  "kernelspec": {
   "display_name": "Python 3.10.8 64-bit",
   "language": "python",
   "name": "python3"
  },
  "language_info": {
   "codemirror_mode": {
    "name": "ipython",
    "version": 3
   },
   "file_extension": ".py",
   "mimetype": "text/x-python",
   "name": "python",
   "nbconvert_exporter": "python",
   "pygments_lexer": "ipython3",
   "version": "3.10.8"
  },
  "orig_nbformat": 4,
  "vscode": {
   "interpreter": {
    "hash": "a98f34b6005ae2330f135078450db511ef8910ecc790235ef0560aa88aa6ce12"
   }
  }
 },
 "nbformat": 4,
 "nbformat_minor": 2
}
