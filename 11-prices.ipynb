{
 "cells": [
  {
   "cell_type": "code",
   "execution_count": 2,
   "metadata": {},
   "outputs": [],
   "source": [
    "import pandas as pd\n",
    "from sqlalchemy import create_engine\n",
    "import pymssql"
   ]
  },
  {
   "cell_type": "code",
   "execution_count": 41,
   "metadata": {},
   "outputs": [],
   "source": [
    "positions = pd.read_csv(\"files/OpenPosition_3_19_2022.csv\")\n",
    "positions = positions[[\"Symbol\", \"LastPrice\"]]\n",
    "positions.columns = [\"ticker\", \"price\"]\n",
    "positions = positions.set_index(\"ticker\")\n",
    "positions = positions.squeeze()"
   ]
  },
  {
   "cell_type": "code",
   "execution_count": 42,
   "metadata": {},
   "outputs": [
    {
     "name": "stderr",
     "output_type": "stream",
     "text": [
      "Exception during reset or similar\n",
      "Traceback (most recent call last):\n",
      "  File \"c:\\Users\\kerry\\AppData\\Local\\Programs\\Python\\Python310\\lib\\site-packages\\sqlalchemy\\pool\\base.py\", line 753, in _finalize_fairy\n",
      "    fairy._reset(pool)\n",
      "  File \"c:\\Users\\kerry\\AppData\\Local\\Programs\\Python\\Python310\\lib\\site-packages\\sqlalchemy\\pool\\base.py\", line 1004, in _reset\n",
      "    pool._dialect.do_rollback(self)\n",
      "  File \"c:\\Users\\kerry\\AppData\\Local\\Programs\\Python\\Python310\\lib\\site-packages\\sqlalchemy\\dialects\\mssql\\base.py\", line 2792, in do_rollback\n",
      "    super(MSDialect, self).do_rollback(dbapi_connection)\n",
      "  File \"c:\\Users\\kerry\\AppData\\Local\\Programs\\Python\\Python310\\lib\\site-packages\\sqlalchemy\\engine\\default.py\", line 683, in do_rollback\n",
      "    dbapi_connection.rollback()\n",
      "  File \"src\\pymssql\\_pymssql.pyx\", line 316, in pymssql._pymssql.Connection.rollback\n",
      "  File \"src\\pymssql\\_pymssql.pyx\", line 300, in pymssql._pymssql.Connection.rollback\n",
      "  File \"src\\pymssql\\_mssql.pyx\", line 1055, in pymssql._mssql.MSSQLConnection.execute_non_query\n",
      "  File \"src\\pymssql\\_mssql.pyx\", line 1076, in pymssql._mssql.MSSQLConnection.execute_non_query\n",
      "  File \"src\\pymssql\\_mssql.pyx\", line 1250, in pymssql._mssql.MSSQLConnection.format_and_run_query\n",
      "  File \"src\\pymssql\\_mssql.pyx\", line 1788, in pymssql._mssql.check_cancel_and_raise\n",
      "  File \"src\\pymssql\\_mssql.pyx\", line 1834, in pymssql._mssql.raise_MSSQLDatabaseException\n",
      "pymssql._mssql.MSSQLDatabaseException: (20047, b'DB-Lib error message 20047, severity 9:\\nDBPROCESS is dead or not enabled\\n')\n"
     ]
    }
   ],
   "source": [
    "server = 'fs.rice.edu'\n",
    "database = 'stocks'\n",
    "username = 'stocks'\n",
    "password = '6LAZH1'\n",
    "\n",
    "string = \"mssql+pymssql://\" + username + \":\" + password + \"@\" + server + \"/\" + database \n",
    "conn = create_engine(string).connect()"
   ]
  },
  {
   "cell_type": "code",
   "execution_count": 25,
   "metadata": {},
   "outputs": [],
   "source": [
    "x = pd.read_sql(\"select max(date) from sep\", conn)\n",
    "maxdate= x.astype(str).iloc[0, 0]\n",
    "string = \"select ticker, close_ from sep where date=\" + \"'\" + maxdate + \"'\"\n",
    "prices = pd.read_sql(string, conn)\n",
    "prices.columns = [\"ticker\", \"price\"]\n",
    "prices = prices.set_index(\"ticker\")\n",
    "prices = prices.squeeze()"
   ]
  },
  {
   "cell_type": "code",
   "execution_count": 28,
   "metadata": {},
   "outputs": [],
   "source": [
    "prices = pd.concat((positions, prices))\n",
    "duplicates = prices.index.duplicated()"
   ]
  },
  {
   "cell_type": "code",
   "execution_count": 35,
   "metadata": {},
   "outputs": [],
   "source": [
    "dups = prices[duplicates].index.to_list()\n",
    "lst = [x for x in positions.index if x not in dups]"
   ]
  },
  {
   "cell_type": "code",
   "execution_count": 40,
   "metadata": {},
   "outputs": [],
   "source": [
    "positions = pd.read_csv(\"files/OpenPosition_3_17_2022.csv\", index_col=\"Symbol\")\n",
    "positions = positions.drop(index=lst)\n",
    "positions.to_csv(\"files/OpenPosition_3_19_2022.csv\")"
   ]
  },
  {
   "cell_type": "code",
   "execution_count": null,
   "metadata": {},
   "outputs": [],
   "source": []
  },
  {
   "cell_type": "code",
   "execution_count": 31,
   "metadata": {},
   "outputs": [
    {
     "data": {
      "text/plain": [
       "ticker\n",
       "AEYE         6.7700\n",
       "AIT        102.0800\n",
       "ALLK         5.9800\n",
       "ALSN        39.5250\n",
       "ALX        249.1501\n",
       "             ...   \n",
       "SES.WS       1.0500\n",
       "SFE          3.7700\n",
       "SLNAW        0.2400\n",
       "SPRU         1.0900\n",
       "STRY.WS      0.0190\n",
       "Name: price, Length: 7671, dtype: float64"
      ]
     },
     "execution_count": 31,
     "metadata": {},
     "output_type": "execute_result"
    }
   ],
   "source": [
    "prices[~duplicates]"
   ]
  },
  {
   "cell_type": "code",
   "execution_count": 22,
   "metadata": {},
   "outputs": [
    {
     "data": {
      "text/plain": [
       "197"
      ]
     },
     "execution_count": 22,
     "metadata": {},
     "output_type": "execute_result"
    }
   ],
   "source": [
    "len([x for x in prices.index if x in positions.index])"
   ]
  },
  {
   "cell_type": "code",
   "execution_count": 23,
   "metadata": {},
   "outputs": [
    {
     "data": {
      "text/plain": [
       "7671"
      ]
     },
     "execution_count": 23,
     "metadata": {},
     "output_type": "execute_result"
    }
   ],
   "source": [
    "len(prices[~prices.index.duplicated()])"
   ]
  },
  {
   "cell_type": "code",
   "execution_count": 26,
   "metadata": {},
   "outputs": [
    {
     "data": {
      "text/plain": [
       "7664"
      ]
     },
     "execution_count": 26,
     "metadata": {},
     "output_type": "execute_result"
    }
   ],
   "source": [
    "len(prices)"
   ]
  },
  {
   "cell_type": "code",
   "execution_count": 27,
   "metadata": {},
   "outputs": [
    {
     "data": {
      "text/plain": [
       "102"
      ]
     },
     "execution_count": 27,
     "metadata": {},
     "output_type": "execute_result"
    }
   ],
   "source": [
    "len(positions)"
   ]
  },
  {
   "cell_type": "code",
   "execution_count": null,
   "metadata": {},
   "outputs": [],
   "source": [
    "len()"
   ]
  },
  {
   "cell_type": "markdown",
   "metadata": {},
   "source": [
    "### Update portfolio"
   ]
  },
  {
   "cell_type": "code",
   "execution_count": null,
   "metadata": {},
   "outputs": [],
   "source": []
  },
  {
   "cell_type": "code",
   "execution_count": 23,
   "metadata": {},
   "outputs": [],
   "source": [
    "ranks = pd.read_excel(\"files/ranks1.xlsx\", index_col=0)\n",
    "ranks = ranks.squeeze()\n",
    "\n",
    "prices = pd.read_excel(\"files/prices1.xlsx\", index_col=0)\n",
    "prices = prices.squeeze()\n",
    "\n",
    "equity = cash + (positions*prices).sum()\n",
    "weights = (positions*prices) / equity\n",
    "\n",
    "sellall = (ranks>10) & (positions !=0)\n",
    "sellallamounts = positions\n",
    "sellsome = (ranks<=10) & (weights>0.2)\n",
    "sellsomeamounts = (equity*(weights-0.2)/prices).astype(int)\n",
    "\n",
    "trades = - np.where(sellall, sellallamounts, 0)\n",
    "trades -= np.where(sellsome, sellsomeamounts, 0)\n",
    "trades = pd.Series(trades, index=ranks.index)\n",
    "\n",
    "cash -= (trades*prices).sum()\n",
    "\n",
    "tickers = ranks[positions==0].sort_values().index.to_list()\n",
    "\n",
    "while cash >= 500:\n",
    "    tick = tickers.pop(0)\n",
    "    dollars = min(cash, weight*equity)\n",
    "    trades[tick] = int(dollars/prices[tick])\n",
    "    cash -= trades[tick]*prices[tick]\n",
    "\n",
    "\n",
    "positions += trades"
   ]
  }
 ],
 "metadata": {
  "kernelspec": {
   "display_name": "Python 3.10.8 64-bit",
   "language": "python",
   "name": "python3"
  },
  "language_info": {
   "codemirror_mode": {
    "name": "ipython",
    "version": 3
   },
   "file_extension": ".py",
   "mimetype": "text/x-python",
   "name": "python",
   "nbconvert_exporter": "python",
   "pygments_lexer": "ipython3",
   "version": "3.10.8"
  },
  "orig_nbformat": 4,
  "vscode": {
   "interpreter": {
    "hash": "a98f34b6005ae2330f135078450db511ef8910ecc790235ef0560aa88aa6ce12"
   }
  }
 },
 "nbformat": 4,
 "nbformat_minor": 2
}
