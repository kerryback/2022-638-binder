{
 "cells": [
  {
   "cell_type": "code",
   "execution_count": 1,
   "metadata": {},
   "outputs": [],
   "source": [
    "import pandas as pd\n",
    "from sqlalchemy import create_engine\n",
    "import pymssql"
   ]
  },
  {
   "cell_type": "code",
   "execution_count": 2,
   "metadata": {},
   "outputs": [],
   "source": [
    "positions = pd.read_csv(\"files/OpenPosition_3_19_2022.csv\")\n",
    "positions = positions[[\"Symbol\", \"LastPrice\"]]\n",
    "positions.columns = [\"ticker\", \"price\"]\n",
    "positions = positions.set_index(\"ticker\")\n",
    "positions = positions.squeeze()"
   ]
  },
  {
   "cell_type": "code",
   "execution_count": 3,
   "metadata": {},
   "outputs": [],
   "source": [
    "server = 'fs.rice.edu'\n",
    "database = 'stocks'\n",
    "username = 'stocks'\n",
    "password = '6LAZH1'\n",
    "\n",
    "string = \"mssql+pymssql://\" + username + \":\" + password + \"@\" + server + \"/\" + database \n",
    "conn = create_engine(string).connect()"
   ]
  },
  {
   "cell_type": "code",
   "execution_count": 6,
   "metadata": {},
   "outputs": [],
   "source": [
    "x = pd.read_sql(\"select max(date) from sep\", conn)\n",
    "maxdate= str(x.iloc[0, 0])\n",
    "string = \"select ticker, close_ from sep where date=\" + \"'\" + maxdate + \"'\"\n",
    "prices = pd.read_sql(string, conn)\n",
    "prices.columns = [\"ticker\", \"price\"]\n",
    "prices = prices.set_index(\"ticker\")\n",
    "prices = prices.squeeze()"
   ]
  },
  {
   "cell_type": "code",
   "execution_count": 7,
   "metadata": {},
   "outputs": [],
   "source": [
    "prices = pd.concat((positions, prices))\n",
    "duplicates = prices.index.duplicated()\n",
    "prices = prices[~duplicates]\n",
    "prices = prices.sort_index()\n",
    "prices.to_excel(\"files/prices.xlsx\")"
   ]
  },
  {
   "cell_type": "code",
   "execution_count": null,
   "metadata": {},
   "outputs": [],
   "source": []
  }
 ],
 "metadata": {
  "kernelspec": {
   "display_name": "Python 3.10.7 ('venv': venv)",
   "language": "python",
   "name": "python3"
  },
  "language_info": {
   "codemirror_mode": {
    "name": "ipython",
    "version": 3
   },
   "file_extension": ".py",
   "mimetype": "text/x-python",
   "name": "python",
   "nbconvert_exporter": "python",
   "pygments_lexer": "ipython3",
   "version": "3.10.7"
  },
  "orig_nbformat": 4,
  "vscode": {
   "interpreter": {
    "hash": "1dc87ca166c10d8ffefef8f6d063bce62d82d4e4e5d60ec42f8acf5b65b22026"
   }
  }
 },
 "nbformat": 4,
 "nbformat_minor": 2
}
