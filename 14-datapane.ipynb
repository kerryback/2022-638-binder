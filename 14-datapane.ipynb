{
 "cells": [
  {
   "cell_type": "code",
   "execution_count": 1,
   "metadata": {},
   "outputs": [],
   "source": [
    "from sqlalchemy import create_engine\n",
    "import pandas as pd\n",
    "from modules.backtest import cumplot\n",
    "import datapane as dp"
   ]
  },
  {
   "cell_type": "code",
   "execution_count": 2,
   "metadata": {},
   "outputs": [],
   "source": [
    "with create_engine(\"sqlite:///files/mydata.db\").connect() as conn:\n",
    "    rets1 = pd.read_sql(\"select * from model1\", conn)\n",
    "    rets1[\"market\"] = pd.read_sql(\"select market from market\", conn)\n",
    "    rets2 = pd.read_sql(\"select * from model2\", conn)\n",
    "    rets2[\"market\"] = pd.read_sql(\"select market from market\", conn)"
   ]
  },
  {
   "cell_type": "code",
   "execution_count": 3,
   "metadata": {},
   "outputs": [],
   "source": [
    "text1 = \"\"\"\n",
    "    The features are roeq and mom12m.  The feature pipeline is (QuantileTransformer, \n",
    "    PolynomialFeatures, QuantileTransformer).  The target is the return minus the\n",
    "    market return and ias transformed with QuantileTransformer.  Random forests with\n",
    "    max_depth=4 are trained at five-year intervals and used to predict monthly.  The best\n",
    "    and worst returns are the equally weighted returns of the top 100 and bottom 100 stocks\n",
    "    each month, respectively.\n",
    "\"\"\"\n",
    "\n",
    "text2 = \"\"\"\n",
    "    The features are roeq and mom12m.  The feature pipeline is (QuantileTransformer, \n",
    "    PolynomialFeatures, QuantileTransformer).  The target is the return minus the\n",
    "    market return and is transformed with QuantileTransformer.  Gradient boosted forests with\n",
    "    learning_rate=0.01 are trained at five-year intervals and used to predict monthly.  The best\n",
    "    and worst returns are the equally weighted returns of the top 100 and bottom 100 stocks\n",
    "    each month, respectively.\n",
    "\"\"\""
   ]
  },
  {
   "cell_type": "code",
   "execution_count": 9,
   "metadata": {},
   "outputs": [],
   "source": [
    "fig1 = cumplot(rets1)\n",
    "fig2 = cumplot(rets2)"
   ]
  },
  {
   "cell_type": "code",
   "execution_count": 17,
   "metadata": {},
   "outputs": [
    {
     "data": {
      "text/markdown": [
       "App saved to ./files/dashboard.html"
      ],
      "text/plain": [
       "<IPython.core.display.Markdown object>"
      ]
     },
     "metadata": {},
     "output_type": "display_data"
    }
   ],
   "source": [
    "pg1 = dp.Page(\n",
    "    title=\"Random Forest\",\n",
    "    blocks = [\n",
    "        \"## Random Forest Model\",\n",
    "        \"Kerry Back, November 28, 2022\",\n",
    "        dp.Group(\n",
    "            text1,\n",
    "            dp.Plot(fig1, caption=\"Random Forest Cumulative Returns\"),\n",
    "            columns=2\n",
    "        ),\n",
    "        rets1 \n",
    "    ]\n",
    ")\n",
    "\n",
    "pg2 = dp.Page(\n",
    "    title=\"Gradient Boosting Model\",\n",
    "    blocks = [\n",
    "        \"## Gradient Boosting Model\",\n",
    "        \"Kerry Back, November 28, 2022\",\n",
    "        dp.Group(\n",
    "            text2,\n",
    "            dp.Plot(fig2, caption=\"Gradient Boosting Cumulative Returns\"),\n",
    "            columns=2\n",
    "        ),\n",
    "        rets2\n",
    "    ]\n",
    ")\n",
    "\n",
    "app = dp.App(\n",
    "    pg1,\n",
    "    pg2\n",
    ")\n",
    "app.save(\"files/dashboard.html\")\n"
   ]
  },
  {
   "cell_type": "markdown",
   "metadata": {},
   "source": [
    "datapane.com will host your html file for free.  Just create an account, get your login token and add the following two lines to your notebook.  You will then get a link that you can share.\n",
    "\n",
    "    !datapane login --token=whateverYourTokenIs\n",
    "    app.upload(name=\"WhateverYouWantToCallIt\")"
   ]
  },
  {
   "cell_type": "code",
   "execution_count": 18,
   "metadata": {},
   "outputs": [
    {
     "name": "stdout",
     "output_type": "stream",
     "text": [
      "Connected successfully to https://cloud.datapane.com as kerryback@gmail.com\n"
     ]
    },
    {
     "data": {
      "text/markdown": [
       "Uploading app and associated data - *please wait...*"
      ],
      "text/plain": [
       "<IPython.core.display.Markdown object>"
      ]
     },
     "metadata": {},
     "output_type": "display_data"
    },
    {
     "data": {
      "text/markdown": [
       "App successfully uploaded. View and share your app at <a href='https://cloud.datapane.com/apps/d7dgp83/investment-strategy-backtests/' target='_blank'>here</a>."
      ],
      "text/plain": [
       "<IPython.core.display.Markdown object>"
      ]
     },
     "metadata": {},
     "output_type": "display_data"
    }
   ],
   "source": [
    "# Example\n",
    "# \n",
    "!datapane login --token=\n",
    "app.upload(name=\"Investment Strategy Backtests\")"
   ]
  }
 ],
 "metadata": {
  "kernelspec": {
   "display_name": "Python 3.10.8 ('venv': venv)",
   "language": "python",
   "name": "python3"
  },
  "language_info": {
   "codemirror_mode": {
    "name": "ipython",
    "version": 3
   },
   "file_extension": ".py",
   "mimetype": "text/x-python",
   "name": "python",
   "nbconvert_exporter": "python",
   "pygments_lexer": "ipython3",
   "version": "3.10.8"
  },
  "orig_nbformat": 4,
  "vscode": {
   "interpreter": {
    "hash": "b4698d42f8646fe93dd4243912c06191667cc35ff6930cd07513e2a757742af9"
   }
  }
 },
 "nbformat": 4,
 "nbformat_minor": 2
}
