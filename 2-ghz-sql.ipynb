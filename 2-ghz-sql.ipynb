{
 "cells": [
  {
   "cell_type": "code",
   "execution_count": 1,
   "metadata": {},
   "outputs": [],
   "source": [
    "from sqlalchemy import create_engine\n",
    "import pymssql\n",
    "import pandas as pd\n",
    "\n",
    "server = \"mssql-82792-0.cloudclusters.net:16272\"\n",
    "username = \"user\"\n",
    "password = \"\" # paste password between quote marks\n",
    "database = \"ghz\"\n",
    "string = \"mssql+pymssql://\" + username + \":\" + password + \"@\" + server + \"/\" + database\n",
    "conn = create_engine(string).connect()"
   ]
  },
  {
   "cell_type": "code",
   "execution_count": 2,
   "metadata": {},
   "outputs": [],
   "source": [
    "# list of tables\n",
    "# \n",
    "# pd.read_sql(\"select * from information_schema.tables\", conn)"
   ]
  },
  {
   "cell_type": "code",
   "execution_count": 3,
   "metadata": {},
   "outputs": [],
   "source": [
    "# list of columns in data table\n",
    "# \n",
    "# df = pd.read_sql(\"select * from data where 1=2\", conn)\n",
    "# for col in df.columns: print(col)"
   ]
  },
  {
   "cell_type": "code",
   "execution_count": 6,
   "metadata": {},
   "outputs": [
    {
     "data": {
      "text/html": [
       "<div>\n",
       "<style scoped>\n",
       "    .dataframe tbody tr th:only-of-type {\n",
       "        vertical-align: middle;\n",
       "    }\n",
       "\n",
       "    .dataframe tbody tr th {\n",
       "        vertical-align: top;\n",
       "    }\n",
       "\n",
       "    .dataframe thead th {\n",
       "        text-align: right;\n",
       "    }\n",
       "</style>\n",
       "<table border=\"1\" class=\"dataframe\">\n",
       "  <thead>\n",
       "    <tr style=\"text-align: right;\">\n",
       "      <th></th>\n",
       "      <th>ticker</th>\n",
       "      <th>permno</th>\n",
       "      <th>date</th>\n",
       "      <th>ret</th>\n",
       "      <th>roeq</th>\n",
       "    </tr>\n",
       "  </thead>\n",
       "  <tbody>\n",
       "    <tr>\n",
       "      <th>0</th>\n",
       "      <td>EWST</td>\n",
       "      <td>10001</td>\n",
       "      <td>2000-01</td>\n",
       "      <td>-0.044118</td>\n",
       "      <td>0.017047</td>\n",
       "    </tr>\n",
       "    <tr>\n",
       "      <th>1</th>\n",
       "      <td>SABC</td>\n",
       "      <td>10002</td>\n",
       "      <td>2000-01</td>\n",
       "      <td>-0.025641</td>\n",
       "      <td>0.027942</td>\n",
       "    </tr>\n",
       "    <tr>\n",
       "      <th>2</th>\n",
       "      <td>IROQ</td>\n",
       "      <td>10009</td>\n",
       "      <td>2000-01</td>\n",
       "      <td>-0.008475</td>\n",
       "      <td>0.031816</td>\n",
       "    </tr>\n",
       "    <tr>\n",
       "      <th>3</th>\n",
       "      <td>DPAC</td>\n",
       "      <td>10012</td>\n",
       "      <td>2000-01</td>\n",
       "      <td>-0.097276</td>\n",
       "      <td>0.045041</td>\n",
       "    </tr>\n",
       "    <tr>\n",
       "      <th>4</th>\n",
       "      <td>SCTT</td>\n",
       "      <td>10016</td>\n",
       "      <td>2000-01</td>\n",
       "      <td>-0.099338</td>\n",
       "      <td>0.061219</td>\n",
       "    </tr>\n",
       "  </tbody>\n",
       "</table>\n",
       "</div>"
      ],
      "text/plain": [
       "  ticker  permno     date       ret      roeq\n",
       "0   EWST   10001  2000-01 -0.044118  0.017047\n",
       "1   SABC   10002  2000-01 -0.025641  0.027942\n",
       "2   IROQ   10009  2000-01 -0.008475  0.031816\n",
       "3   DPAC   10012  2000-01 -0.097276  0.045041\n",
       "4   SCTT   10016  2000-01 -0.099338  0.061219"
      ]
     },
     "execution_count": 6,
     "metadata": {},
     "output_type": "execute_result"
    }
   ],
   "source": [
    "data = pd.read_sql(\n",
    "    \"\"\"\n",
    "    select ticker, permno, siccd, date, ret, roeq from data\n",
    "    where date>='2010-01-01'\n",
    "    \"\"\", \n",
    "    conn\n",
    ")\n",
    "data.head()"
   ]
  }
 ],
 "metadata": {
  "kernelspec": {
   "display_name": "Python 3.10.8 ('venv': venv)",
   "language": "python",
   "name": "python3"
  },
  "language_info": {
   "codemirror_mode": {
    "name": "ipython",
    "version": 3
   },
   "file_extension": ".py",
   "mimetype": "text/x-python",
   "name": "python",
   "nbconvert_exporter": "python",
   "pygments_lexer": "ipython3",
   "version": "3.10.8"
  },
  "orig_nbformat": 4,
  "vscode": {
   "interpreter": {
    "hash": "b4698d42f8646fe93dd4243912c06191667cc35ff6930cd07513e2a757742af9"
   }
  }
 },
 "nbformat": 4,
 "nbformat_minor": 2
}
