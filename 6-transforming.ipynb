{
 "cells": [
  {
   "cell_type": "code",
   "execution_count": null,
   "metadata": {},
   "outputs": [],
   "source": [
    "!pip install pymssql"
   ]
  },
  {
   "cell_type": "code",
   "execution_count": null,
   "metadata": {},
   "outputs": [],
   "source": [
    "from sqlalchemy import create_engine\n",
    "import pymssql\n",
    "import pandas as pd\n",
    "from sklearn.preprocessing import QuantileTransformer\n",
    "from sklearn.neural_network import MLPRegressor\n",
    "import plotly.graph_objects as go\n",
    "import numpy as np\n",
    "from scipy.stats import gaussian_kde as kde\n",
    "from sklearn.preprocessing import PolynomialFeatures\n",
    "from sklearn.pipeline import make_pipeline\n",
    "from joblib import dump"
   ]
  },
  {
   "cell_type": "code",
   "execution_count": null,
   "metadata": {},
   "outputs": [],
   "source": [
    "\n",
    "server = \"mssql-82792-0.cloudclusters.net:16272\"\n",
    "username = \"user\"\n",
    "password = \"RiceOwls1912\" # paste password between quote marks\n",
    "database = \"ghz\"\n",
    "\n",
    "string = \"mssql+pymssql://\" + username + \":\" + password + \"@\" + server + \"/\" + database\n",
    "\n",
    "conn = create_engine(string).connect()"
   ]
  },
  {
   "cell_type": "code",
   "execution_count": null,
   "metadata": {},
   "outputs": [],
   "source": [
    "\n",
    "data = pd.read_sql(\n",
    "    \"\"\"\n",
    "    select ticker, date, ret, roeq, mom12m\n",
    "    from data\n",
    "    where date='2021-12'\n",
    "    \"\"\", \n",
    "    conn\n",
    ")\n",
    "data = data.dropna()\n",
    "data['rnk'] = data.ret.rank(pct=True)"
   ]
  },
  {
   "cell_type": "code",
   "execution_count": null,
   "metadata": {},
   "outputs": [],
   "source": [
    "\n",
    "transform = QuantileTransformer(\n",
    "    output_distribution=\"normal\"\n",
    ")\n",
    "\n",
    "old = data.roeq.to_numpy().reshape(-1,1)\n",
    "new = transform.fit_transform(old)\n",
    "\n",
    "old = np.ravel(old)\n",
    "new = np.ravel(new)\n",
    "\n",
    "trace = go.Box(\n",
    "    y=old,\n",
    "    name=\"old\",\n",
    ")\n",
    "\n",
    "fig = go.Figure(trace)\n",
    "\n",
    "fig.update_layout(\n",
    "    template=\"plotly_dark\",\n",
    "    yaxis_tickformat=\".0%\",\n",
    ")\n",
    "fig.show()"
   ]
  },
  {
   "cell_type": "code",
   "execution_count": null,
   "metadata": {},
   "outputs": [],
   "source": [
    "\n",
    "trace = go.Box(\n",
    "    y=new,\n",
    "    name=\"new\",\n",
    ")\n",
    "fig = go.Figure(trace)\n",
    "fig.update_layout(\n",
    "    template=\"plotly_dark\",\n",
    "    yaxis_tickformat=\".0%\",\n",
    ")\n",
    "fig.show()"
   ]
  },
  {
   "cell_type": "code",
   "execution_count": null,
   "metadata": {},
   "outputs": [],
   "source": [
    "\n",
    "density = kde(old)\n",
    "mn = np.min(old)\n",
    "mx = np.max(old)\n",
    "grid = np.linspace(mn, mx, 100)\n",
    "\n",
    "trace = go.Scatter(\n",
    "  x=grid, \n",
    "  y=density(grid),\n",
    "  mode=\"lines\", \n",
    "  name=\"old\"\n",
    ")\n",
    "fig = go.Figure(trace)\n",
    "fig.update_layout(\n",
    "    template=\"plotly_dark\",\n",
    "    yaxis_title=\"\",\n",
    "    xaxis_tickformat=\".0%\",\n",
    "    yaxis_tickformat=\"\",\n",
    ")\n",
    "\n",
    "fig.show()"
   ]
  },
  {
   "cell_type": "code",
   "execution_count": null,
   "metadata": {},
   "outputs": [],
   "source": [
    "density = kde(new)\n",
    "mn = np.min(new)\n",
    "mx = np.max(new)\n",
    "grid = np.linspace(mn, mx, 100)\n",
    "\n",
    "trace = go.Scatter(\n",
    "  x=grid, \n",
    "  y=density(grid),\n",
    "  mode=\"lines\", \n",
    "  name=\"new\"\n",
    ")\n",
    "fig = go.Figure(trace)\n",
    "fig.update_layout(\n",
    "    template=\"plotly_dark\",\n",
    "    yaxis_title=\"\",\n",
    "    xaxis_tickformat=\".0%\",\n",
    "    yaxis_tickformat=\"\",\n",
    ")\n",
    "\n",
    "fig.show()"
   ]
  },
  {
   "cell_type": "code",
   "execution_count": null,
   "metadata": {},
   "outputs": [],
   "source": [
    "model = MLPRegressor(\n",
    "  hidden_layer_sizes=(4, 2),\n",
    "  random_state=0\n",
    ")\n",
    "\n",
    "poly = PolynomialFeatures(degree=2)\n",
    "pipe = make_pipeline(\n",
    "  transform, \n",
    "  poly,\n",
    "  transform,\n",
    "  model\n",
    ")\n",
    "X = data[[\"roeq\", \"mom12m\"]]\n",
    "y = data[\"rnk\"]\n",
    "\n",
    "pipe.fit(X, y)\n",
    "dump(pipe, \"net2.joblib\")"
   ]
  },
  {
   "cell_type": "code",
   "execution_count": null,
   "metadata": {},
   "outputs": [],
   "source": [
    "\n",
    "\n"
   ]
  },
  {
   "cell_type": "code",
   "execution_count": null,
   "metadata": {},
   "outputs": [],
   "source": []
  },
  {
   "cell_type": "code",
   "execution_count": null,
   "metadata": {},
   "outputs": [],
   "source": []
  },
  {
   "cell_type": "code",
   "execution_count": null,
   "metadata": {},
   "outputs": [],
   "source": []
  },
  {
   "cell_type": "code",
   "execution_count": null,
   "metadata": {},
   "outputs": [],
   "source": []
  }
 ],
 "metadata": {
  "kernelspec": {
   "display_name": "Python 3.10.8 ('venv': venv)",
   "language": "python",
   "name": "python3"
  },
  "language_info": {
   "name": "python",
   "version": "3.10.8"
  },
  "orig_nbformat": 4,
  "vscode": {
   "interpreter": {
    "hash": "b4698d42f8646fe93dd4243912c06191667cc35ff6930cd07513e2a757742af9"
   }
  }
 },
 "nbformat": 4,
 "nbformat_minor": 2
}
