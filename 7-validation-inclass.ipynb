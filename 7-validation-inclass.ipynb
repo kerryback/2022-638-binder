{
  "cells": [
    {
      "cell_type": "code",
      "execution_count": 1,
      "metadata": {
        "id": "0KJvoWm90fKr",
        "outputId": "25c733e4-ea25-4d4b-8dc0-16431f395900",
        "colab": {
          "base_uri": "https://localhost:8080/"
        }
      },
      "outputs": [
        {
          "output_type": "stream",
          "name": "stdout",
          "text": [
            "Looking in indexes: https://pypi.org/simple, https://us-python.pkg.dev/colab-wheels/public/simple/\n",
            "Collecting pymssql\n",
            "  Downloading pymssql-2.2.5-cp37-cp37m-manylinux_2_24_x86_64.whl (2.6 MB)\n",
            "\u001b[K     |████████████████████████████████| 2.6 MB 5.2 MB/s \n",
            "\u001b[?25hInstalling collected packages: pymssql\n",
            "Successfully installed pymssql-2.2.5\n"
          ]
        }
      ],
      "source": [
        "!pip install pymssql"
      ]
    },
    {
      "cell_type": "code",
      "execution_count": 2,
      "metadata": {
        "id": "cZaylCPl0fKu"
      },
      "outputs": [],
      "source": [
        "from sqlalchemy import create_engine\n",
        "import pymssql\n",
        "import pandas as pd\n",
        "from sklearn.model_selection import GridSearchCV\n",
        "from sklearn.preprocessing import QuantileTransformer\n",
        "from sklearn.ensemble import RandomForestRegressor\n",
        "from sklearn.preprocessing import PolynomialFeatures\n",
        "from sklearn.pipeline import make_pipeline\n",
        "from joblib import dump"
      ]
    },
    {
      "cell_type": "code",
      "execution_count": 3,
      "metadata": {
        "id": "T8O-MjEa0fKv"
      },
      "outputs": [],
      "source": [
        "server = \"mssql-82792-0.cloudclusters.net:16272\"\n",
        "username = \"user\"\n",
        "password = \"RiceOwls1912\" # paste password between quote marks\n",
        "database = \"ghz\"\n",
        "\n",
        "string = \"mssql+pymssql://\" + username + \":\" + password + \"@\" + server + \"/\" + database\n",
        "\n",
        "conn = create_engine(string).connect()"
      ]
    },
    {
      "cell_type": "code",
      "execution_count": 4,
      "metadata": {
        "id": "EHmucUru0fKv"
      },
      "outputs": [],
      "source": [
        "\n",
        "data = pd.read_sql(\n",
        "    \"\"\"\n",
        "    select ticker, date, ret, roeq, mom12m\n",
        "    from data\n",
        "    where date='2021-12'\n",
        "    \"\"\", \n",
        "    conn\n",
        ")\n",
        "data = data.dropna()\n",
        "data['rnk'] = data.ret.rank(pct=True)"
      ]
    },
    {
      "cell_type": "code",
      "execution_count": 21,
      "metadata": {
        "id": "f755GwBP0fKw"
      },
      "outputs": [],
      "source": [
        "transform1 = QuantileTransformer(\n",
        "    output_distribution=\"normal\"\n",
        ")\n",
        "\n",
        "transform2 = QuantileTransformer(\n",
        "    output_distribution=\"normal\"\n",
        ")\n",
        "\n",
        "poly = PolynomialFeatures(degree=2)\n",
        "from sklearn.ensemble import GradientBoostingRegressor\n",
        "\n",
        "model = GradientBoostingRegressor(\n",
        "   random_state=0\n",
        ")\n",
        "\n",
        "pipe = make_pipeline(\n",
        "  transform1, \n",
        "  poly,\n",
        "  transform2,\n",
        "  model\n",
        ")"
      ]
    },
    {
      "cell_type": "code",
      "execution_count": 22,
      "metadata": {
        "id": "XBzC5SRY0fKw",
        "outputId": "e5023442-9f6b-4c63-86e9-d480d8f19a11",
        "colab": {
          "base_uri": "https://localhost:8080/"
        }
      },
      "outputs": [
        {
          "output_type": "execute_result",
          "data": {
            "text/plain": [
              "['forest2.joblib']"
            ]
          },
          "metadata": {},
          "execution_count": 22
        }
      ],
      "source": [
        "param_grid = {\n",
        "    \"gradientboostingregressor__max_depth\": [3, 4, 5],\n",
        "    \"gradientboostingregressor__learning_rate\": [.1, .5, 1],\n",
        "    \"gradientboostingregressor__loss\": [\"squared_error\", \"absolute_error\"]\n",
        "}\n",
        "\n",
        "cv = GridSearchCV(\n",
        "  pipe, \n",
        "  param_grid=param_grid\n",
        ")\n",
        "\n",
        "X = data[[\"roeq\", \"mom12m\"]]\n",
        "y = data[\"rnk\"]\n",
        "\n",
        "cv.fit(X, y)\n",
        "\n",
        "dump(cv, \"forest2.joblib\")"
      ]
    },
    {
      "cell_type": "code",
      "source": [
        "cv.best_params_"
      ],
      "metadata": {
        "id": "OzM0U3sH1YF3",
        "outputId": "47edc53d-5cee-4243-f1c8-df0a42657e55",
        "colab": {
          "base_uri": "https://localhost:8080/"
        }
      },
      "execution_count": 23,
      "outputs": [
        {
          "output_type": "execute_result",
          "data": {
            "text/plain": [
              "{'gradientboostingregressor__learning_rate': 0.1,\n",
              " 'gradientboostingregressor__loss': 'squared_error',\n",
              " 'gradientboostingregressor__max_depth': 3}"
            ]
          },
          "metadata": {},
          "execution_count": 23
        }
      ]
    },
    {
      "cell_type": "code",
      "source": [
        "cv.score(X, y)"
      ],
      "metadata": {
        "id": "8l2SEowF5Z7a",
        "outputId": "88a36939-f05f-4bba-e621-f06d8e9d8a9c",
        "colab": {
          "base_uri": "https://localhost:8080/"
        }
      },
      "execution_count": 24,
      "outputs": [
        {
          "output_type": "execute_result",
          "data": {
            "text/plain": [
              "0.26527142561180195"
            ]
          },
          "metadata": {},
          "execution_count": 24
        }
      ]
    },
    {
      "cell_type": "code",
      "source": [
        "from joblib import load\n",
        "Bob = load(\"forest2.joblib\")\n",
        "Bob.score(X,y)"
      ],
      "metadata": {
        "id": "idxuSGSH2sct",
        "outputId": "1214f0e0-2e44-426a-e265-f4fa6b1420bf",
        "colab": {
          "base_uri": "https://localhost:8080/"
        }
      },
      "execution_count": 14,
      "outputs": [
        {
          "output_type": "execute_result",
          "data": {
            "text/plain": [
              "0.14015535638090215"
            ]
          },
          "metadata": {},
          "execution_count": 14
        }
      ]
    },
    {
      "cell_type": "code",
      "source": [
        "cv.cv_results_"
      ],
      "metadata": {
        "id": "tOf0Vhuh-KkO",
        "outputId": "ab871df7-4a12-40a7-ddee-2efbef47de92",
        "colab": {
          "base_uri": "https://localhost:8080/"
        }
      },
      "execution_count": 26,
      "outputs": [
        {
          "output_type": "execute_result",
          "data": {
            "text/plain": [
              "{'mean_fit_time': array([0.41625295, 0.50277705, 0.5912992 , 0.81600561, 0.8398828 ,\n",
              "        1.06638222, 0.40420198, 0.50097837, 0.59803691, 0.61828375,\n",
              "        0.7809864 , 0.9711587 , 0.40752597, 0.50069971, 0.59654069,\n",
              "        0.61117926, 0.77014403, 0.90895452]),\n",
              " 'std_fit_time': array([0.01724794, 0.00806109, 0.0022335 , 0.12794194, 0.02035337,\n",
              "        0.04178157, 0.00636395, 0.00708156, 0.00498134, 0.01633095,\n",
              "        0.00587443, 0.02440218, 0.00492012, 0.00607468, 0.00337913,\n",
              "        0.01236095, 0.0170866 , 0.02277246]),\n",
              " 'mean_score_time': array([0.01017208, 0.0087935 , 0.00884647, 0.01175318, 0.00843039,\n",
              "        0.00916176, 0.00864396, 0.0085629 , 0.0087832 , 0.00844269,\n",
              "        0.00836916, 0.00883031, 0.0086235 , 0.00856991, 0.01030798,\n",
              "        0.00839143, 0.00864363, 0.00838823]),\n",
              " 'std_score_time': array([0.00250268, 0.00065441, 0.00034137, 0.00285169, 0.00017973,\n",
              "        0.00074255, 0.00031957, 0.00020442, 0.00024918, 0.0003849 ,\n",
              "        0.00030333, 0.00061777, 0.00029177, 0.00017699, 0.00200017,\n",
              "        0.00014003, 0.00036116, 0.00014784]),\n",
              " 'param_gradientboostingregressor__learning_rate': masked_array(data=[0.1, 0.1, 0.1, 0.1, 0.1, 0.1, 0.5, 0.5, 0.5, 0.5, 0.5,\n",
              "                    0.5, 1, 1, 1, 1, 1, 1],\n",
              "              mask=[False, False, False, False, False, False, False, False,\n",
              "                    False, False, False, False, False, False, False, False,\n",
              "                    False, False],\n",
              "        fill_value='?',\n",
              "             dtype=object),\n",
              " 'param_gradientboostingregressor__loss': masked_array(data=['squared_error', 'squared_error', 'squared_error',\n",
              "                    'absolute_error', 'absolute_error', 'absolute_error',\n",
              "                    'squared_error', 'squared_error', 'squared_error',\n",
              "                    'absolute_error', 'absolute_error', 'absolute_error',\n",
              "                    'squared_error', 'squared_error', 'squared_error',\n",
              "                    'absolute_error', 'absolute_error', 'absolute_error'],\n",
              "              mask=[False, False, False, False, False, False, False, False,\n",
              "                    False, False, False, False, False, False, False, False,\n",
              "                    False, False],\n",
              "        fill_value='?',\n",
              "             dtype=object),\n",
              " 'param_gradientboostingregressor__max_depth': masked_array(data=[3, 4, 5, 3, 4, 5, 3, 4, 5, 3, 4, 5, 3, 4, 5, 3, 4, 5],\n",
              "              mask=[False, False, False, False, False, False, False, False,\n",
              "                    False, False, False, False, False, False, False, False,\n",
              "                    False, False],\n",
              "        fill_value='?',\n",
              "             dtype=object),\n",
              " 'params': [{'gradientboostingregressor__learning_rate': 0.1,\n",
              "   'gradientboostingregressor__loss': 'squared_error',\n",
              "   'gradientboostingregressor__max_depth': 3},\n",
              "  {'gradientboostingregressor__learning_rate': 0.1,\n",
              "   'gradientboostingregressor__loss': 'squared_error',\n",
              "   'gradientboostingregressor__max_depth': 4},\n",
              "  {'gradientboostingregressor__learning_rate': 0.1,\n",
              "   'gradientboostingregressor__loss': 'squared_error',\n",
              "   'gradientboostingregressor__max_depth': 5},\n",
              "  {'gradientboostingregressor__learning_rate': 0.1,\n",
              "   'gradientboostingregressor__loss': 'absolute_error',\n",
              "   'gradientboostingregressor__max_depth': 3},\n",
              "  {'gradientboostingregressor__learning_rate': 0.1,\n",
              "   'gradientboostingregressor__loss': 'absolute_error',\n",
              "   'gradientboostingregressor__max_depth': 4},\n",
              "  {'gradientboostingregressor__learning_rate': 0.1,\n",
              "   'gradientboostingregressor__loss': 'absolute_error',\n",
              "   'gradientboostingregressor__max_depth': 5},\n",
              "  {'gradientboostingregressor__learning_rate': 0.5,\n",
              "   'gradientboostingregressor__loss': 'squared_error',\n",
              "   'gradientboostingregressor__max_depth': 3},\n",
              "  {'gradientboostingregressor__learning_rate': 0.5,\n",
              "   'gradientboostingregressor__loss': 'squared_error',\n",
              "   'gradientboostingregressor__max_depth': 4},\n",
              "  {'gradientboostingregressor__learning_rate': 0.5,\n",
              "   'gradientboostingregressor__loss': 'squared_error',\n",
              "   'gradientboostingregressor__max_depth': 5},\n",
              "  {'gradientboostingregressor__learning_rate': 0.5,\n",
              "   'gradientboostingregressor__loss': 'absolute_error',\n",
              "   'gradientboostingregressor__max_depth': 3},\n",
              "  {'gradientboostingregressor__learning_rate': 0.5,\n",
              "   'gradientboostingregressor__loss': 'absolute_error',\n",
              "   'gradientboostingregressor__max_depth': 4},\n",
              "  {'gradientboostingregressor__learning_rate': 0.5,\n",
              "   'gradientboostingregressor__loss': 'absolute_error',\n",
              "   'gradientboostingregressor__max_depth': 5},\n",
              "  {'gradientboostingregressor__learning_rate': 1,\n",
              "   'gradientboostingregressor__loss': 'squared_error',\n",
              "   'gradientboostingregressor__max_depth': 3},\n",
              "  {'gradientboostingregressor__learning_rate': 1,\n",
              "   'gradientboostingregressor__loss': 'squared_error',\n",
              "   'gradientboostingregressor__max_depth': 4},\n",
              "  {'gradientboostingregressor__learning_rate': 1,\n",
              "   'gradientboostingregressor__loss': 'squared_error',\n",
              "   'gradientboostingregressor__max_depth': 5},\n",
              "  {'gradientboostingregressor__learning_rate': 1,\n",
              "   'gradientboostingregressor__loss': 'absolute_error',\n",
              "   'gradientboostingregressor__max_depth': 3},\n",
              "  {'gradientboostingregressor__learning_rate': 1,\n",
              "   'gradientboostingregressor__loss': 'absolute_error',\n",
              "   'gradientboostingregressor__max_depth': 4},\n",
              "  {'gradientboostingregressor__learning_rate': 1,\n",
              "   'gradientboostingregressor__loss': 'absolute_error',\n",
              "   'gradientboostingregressor__max_depth': 5}],\n",
              " 'split0_test_score': array([ 0.12192106,  0.0948041 ,  0.07685017,  0.12737709,  0.09445562,\n",
              "         0.06573117, -0.0651297 , -0.27491614, -0.28901382,  0.1207442 ,\n",
              "         0.04420021,  0.02429072, -0.42416622, -0.69570868, -0.77855311,\n",
              "        -0.07314969, -0.08863061, -0.20643583]),\n",
              " 'split1_test_score': array([ 0.12404436,  0.09660206,  0.08767678,  0.09054987,  0.07867342,\n",
              "         0.10155752, -0.08282991, -0.1254367 , -0.2041793 ,  0.05765415,\n",
              "         0.0230769 ,  0.03082191, -0.4735373 , -0.89550079, -0.80954704,\n",
              "        -0.03474314, -0.06700631, -0.22411363]),\n",
              " 'split2_test_score': array([ 0.0316931 ,  0.05304696,  0.009933  , -0.00585775,  0.0056772 ,\n",
              "         0.00693373, -0.14894013, -0.23143815, -0.28054257, -0.06354842,\n",
              "        -0.0660408 , -0.0612707 , -0.55525776, -0.73828272, -0.75925262,\n",
              "        -0.13785888, -0.34876817, -0.10323954]),\n",
              " 'split3_test_score': array([-0.01880501, -0.06329967, -0.12316202, -0.0473252 , -0.05912682,\n",
              "        -0.10039491, -0.296223  , -0.37703786, -0.59029792, -0.13378535,\n",
              "        -0.12443108, -0.17778863, -0.72098167, -0.93853363, -0.9755901 ,\n",
              "        -0.1754002 , -0.26805088, -0.34594349]),\n",
              " 'split4_test_score': array([-5.00496894e-04, -4.81900637e-02, -9.07438787e-02, -3.09039494e-02,\n",
              "        -5.76791249e-02, -6.68348693e-02, -1.73372840e-01, -2.99248976e-01,\n",
              "        -4.11236297e-01, -9.78830628e-02, -8.16754755e-02, -2.04781566e-01,\n",
              "        -6.28361914e-01, -8.25923255e-01, -9.17105233e-01, -2.95088926e-01,\n",
              "        -2.94546549e-01, -3.83888238e-01]),\n",
              " 'mean_test_score': array([ 0.0516706 ,  0.02659268, -0.00788919,  0.02676801,  0.01240006,\n",
              "         0.00139853, -0.15329911, -0.26161557, -0.35505398, -0.0233637 ,\n",
              "        -0.04097405, -0.07774565, -0.56046097, -0.81878982, -0.84800962,\n",
              "        -0.14324817, -0.21340051, -0.25272414]),\n",
              " 'std_test_score': array([0.06043314, 0.06917663, 0.08577175, 0.06938388, 0.06511168,\n",
              "        0.07644455, 0.08196212, 0.08291061, 0.13503524, 0.09663526,\n",
              "        0.06419845, 0.09860678, 0.10633578, 0.09154714, 0.08394327,\n",
              "        0.09033886, 0.113925  , 0.10119356]),\n",
              " 'rank_test_score': array([ 1,  3,  6,  2,  4,  5, 11, 14, 15,  7,  8,  9, 16, 17, 18, 10, 12,\n",
              "        13], dtype=int32)}"
            ]
          },
          "metadata": {},
          "execution_count": 26
        }
      ]
    },
    {
      "cell_type": "code",
      "source": [],
      "metadata": {
        "id": "2KwmZn4q-P8i"
      },
      "execution_count": null,
      "outputs": []
    }
  ],
  "metadata": {
    "kernelspec": {
      "display_name": "Python 3.10.7 ('venv': venv)",
      "language": "python",
      "name": "python3"
    },
    "language_info": {
      "codemirror_mode": {
        "name": "ipython",
        "version": 3
      },
      "file_extension": ".py",
      "mimetype": "text/x-python",
      "name": "python",
      "nbconvert_exporter": "python",
      "pygments_lexer": "ipython3",
      "version": "3.10.7"
    },
    "orig_nbformat": 4,
    "vscode": {
      "interpreter": {
        "hash": "1dc87ca166c10d8ffefef8f6d063bce62d82d4e4e5d60ec42f8acf5b65b22026"
      }
    },
    "colab": {
      "provenance": []
    }
  },
  "nbformat": 4,
  "nbformat_minor": 0
}