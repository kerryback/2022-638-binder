{
 "cells": [
  {
   "cell_type": "markdown",
   "metadata": {},
   "source": [
    "<a href=\"https://colab.research.google.com/github/kerryback/2022-638-binder/blob/main/7a-validation-with-industries.ipynb\" target=\"_parent\"><img src=\"https://colab.research.google.com/assets/colab-badge.svg\" alt=\"Open In Colab\"/></a>"
   ]
  },
  {
   "cell_type": "code",
   "execution_count": 1,
   "metadata": {},
   "outputs": [
    {
     "name": "stdout",
     "output_type": "stream",
     "text": [
      "Requirement already satisfied: sqlalchemy in c:\\users\\keb7\\repos\\2022-638-binder\\venv\\lib\\site-packages (1.4.42)\n",
      "Requirement already satisfied: greenlet!=0.4.17 in c:\\users\\keb7\\repos\\2022-638-binder\\venv\\lib\\site-packages (from sqlalchemy) (1.1.3.post0)\n"
     ]
    },
    {
     "name": "stderr",
     "output_type": "stream",
     "text": [
      "\n",
      "[notice] A new release of pip available: 22.2.2 -> 22.3\n",
      "[notice] To update, run: python.exe -m pip install --upgrade pip\n"
     ]
    },
    {
     "name": "stdout",
     "output_type": "stream",
     "text": [
      "Requirement already satisfied: pymssql in c:\\users\\keb7\\repos\\2022-638-binder\\venv\\lib\\site-packages (2.2.5)\n"
     ]
    },
    {
     "name": "stderr",
     "output_type": "stream",
     "text": [
      "\n",
      "[notice] A new release of pip available: 22.2.2 -> 22.3\n",
      "[notice] To update, run: python.exe -m pip install --upgrade pip\n"
     ]
    }
   ],
   "source": [
    "!pip install pymssql"
   ]
  },
  {
   "cell_type": "code",
   "execution_count": 1,
   "metadata": {},
   "outputs": [],
   "source": [
    "from sqlalchemy import create_engine\n",
    "import pymssql\n",
    "import pandas as pd\n",
    "from sklearn.model_selection import GridSearchCV\n",
    "from sklearn.preprocessing import QuantileTransformer\n",
    "from sklearn.ensemble import RandomForestRegressor\n",
    "from sklearn.preprocessing import PolynomialFeatures\n",
    "from sklearn.pipeline import make_pipeline\n",
    "from joblib import dump\n",
    "\n",
    "from sklearn.preprocessing import OneHotEncoder\n",
    "from sklearn.compose import make_column_transformer"
   ]
  },
  {
   "cell_type": "code",
   "execution_count": 2,
   "metadata": {},
   "outputs": [],
   "source": [
    "server = \"mssql-82792-0.cloudclusters.net:16272\"\n",
    "username = \"user\"\n",
    "password = \"RiceOwls1912\" # paste password between quote marks\n",
    "database = \"ghz\"\n",
    "\n",
    "string = \"mssql+pymssql://\" + username + \":\" + password + \"@\" + server + \"/\" + database\n",
    "\n",
    "conn = create_engine(string).connect()"
   ]
  },
  {
   "cell_type": "code",
   "execution_count": 3,
   "metadata": {},
   "outputs": [],
   "source": [
    "data = pd.read_sql(\n",
    "    \"\"\"\n",
    "    select ticker, date, ret, roeq, mom12m, siccd\n",
    "    from data\n",
    "    where date='2021-12'\n",
    "    \"\"\", \n",
    "    conn\n",
    ")\n",
    "data = data.dropna()\n",
    "data['rnk'] = data.ret.rank(pct=True)"
   ]
  },
  {
   "cell_type": "code",
   "execution_count": 6,
   "metadata": {},
   "outputs": [],
   "source": [
    "ff49 = pd.read_excel(\"files/ff49.xlsx\", index_col=0)\n",
    "def industry(sic):\n",
    "  try:\n",
    "    return ff49[(ff49.lower<=sic)&(sic<=ff49.upper)].index[0]\n",
    "  except:\n",
    "    return \"Almost Nothing\"\n",
    "data[\"industry\"] = data.siccd.map(industry)"
   ]
  },
  {
   "cell_type": "code",
   "execution_count": 10,
   "metadata": {},
   "outputs": [],
   "source": [
    "transform1 = QuantileTransformer(\n",
    "    output_distribution=\"normal\"\n",
    ")\n",
    "\n",
    "transform2 = QuantileTransformer(\n",
    "    output_distribution=\"normal\"\n",
    ")\n",
    "\n",
    "poly = PolynomialFeatures(degree=2)\n",
    "\n",
    "pipe1 = make_pipeline(transform1, poly, transform2)\n",
    "\n",
    "onehot = OneHotEncoder()\n",
    "\n",
    "preprocessor = make_column_transformer(\n",
    "  (\n",
    "    pipe1,\n",
    "    [\"roeq\", \"mom12m\"]\n",
    "  ),\n",
    "  (\n",
    "    onehot,\n",
    "    [\"industry\"]\n",
    "  )\n",
    ")\n",
    "\n",
    "model = RandomForestRegressor(\n",
    "   random_state=0\n",
    ")\n",
    "\n",
    "pipe = make_pipeline(preprocessor, model)"
   ]
  },
  {
   "cell_type": "code",
   "execution_count": 11,
   "metadata": {},
   "outputs": [
    {
     "data": {
      "text/plain": [
       "['forest3.joblib']"
      ]
     },
     "execution_count": 11,
     "metadata": {},
     "output_type": "execute_result"
    }
   ],
   "source": [
    "param_grid = {\n",
    "    \"randomforestregressor__max_depth\": [3, 4, 5]\n",
    "}\n",
    "\n",
    "cv = GridSearchCV(\n",
    "  pipe, \n",
    "  param_grid=param_grid\n",
    ")\n",
    "\n",
    "X = data[[\"roeq\", \"mom12m\", \"industry\"]]\n",
    "y = data[\"rnk\"]\n",
    "\n",
    "cv.fit(X, y)\n",
    "\n",
    "dump(cv, \"forest3.joblib\")"
   ]
  }
 ],
 "metadata": {
  "kernelspec": {
   "display_name": "Python 3.10.7 ('venv': venv)",
   "language": "python",
   "name": "python3"
  },
  "language_info": {
   "codemirror_mode": {
    "name": "ipython",
    "version": 3
   },
   "file_extension": ".py",
   "mimetype": "text/x-python",
   "name": "python",
   "nbconvert_exporter": "python",
   "pygments_lexer": "ipython3",
   "version": "3.10.7"
  },
  "orig_nbformat": 4,
  "vscode": {
   "interpreter": {
    "hash": "1dc87ca166c10d8ffefef8f6d063bce62d82d4e4e5d60ec42f8acf5b65b22026"
   }
  }
 },
 "nbformat": 4,
 "nbformat_minor": 2
}
