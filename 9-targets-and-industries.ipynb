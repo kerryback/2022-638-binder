{
 "cells": [
  {
   "cell_type": "markdown",
   "metadata": {},
   "source": [
    "<a href=\"https://colab.research.google.com/github/kerryback/2022-638-binder/blob/main/7a-validation-with-industries.ipynb\" target=\"_parent\"><img src=\"https://colab.research.google.com/assets/colab-badge.svg\" alt=\"Open In Colab\"/></a>"
   ]
  },
  {
   "cell_type": "code",
   "execution_count": 1,
   "metadata": {},
   "outputs": [
    {
     "name": "stdout",
     "output_type": "stream",
     "text": [
      "Requirement already satisfied: pymssql in c:\\users\\kerry\\appdata\\local\\programs\\python\\python310\\lib\\site-packages (2.2.5)\n"
     ]
    },
    {
     "name": "stderr",
     "output_type": "stream",
     "text": [
      "\n",
      "[notice] A new release of pip available: 22.2.2 -> 22.3.1\n",
      "[notice] To update, run: python.exe -m pip install --upgrade pip\n"
     ]
    }
   ],
   "source": [
    "!pip install pymssql"
   ]
  },
  {
   "cell_type": "code",
   "execution_count": 2,
   "metadata": {},
   "outputs": [],
   "source": [
    "from sqlalchemy import create_engine\n",
    "import pymssql\n",
    "import pandas as pd\n",
    "from sklearn.model_selection import GridSearchCV\n",
    "from sklearn.preprocessing import QuantileTransformer\n",
    "from sklearn.ensemble import RandomForestRegressor\n",
    "from sklearn.preprocessing import PolynomialFeatures\n",
    "from sklearn.pipeline import make_pipeline\n",
    "from joblib import dump\n",
    "\n",
    "from sklearn.preprocessing import OneHotEncoder\n",
    "from sklearn.compose import make_column_transformer\n",
    "from sklearn.compose import TransformedTargetRegressor"
   ]
  },
  {
   "cell_type": "code",
   "execution_count": 3,
   "metadata": {},
   "outputs": [],
   "source": [
    "server = \"mssql-82792-0.cloudclusters.net:16272\"\n",
    "username = \"user\"\n",
    "password = \"RiceOwls1912\" # paste password between quote marks\n",
    "database = \"ghz\"\n",
    "\n",
    "string = \"mssql+pymssql://\" + username + \":\" + password + \"@\" + server + \"/\" + database\n",
    "\n",
    "conn = create_engine(string).connect()"
   ]
  },
  {
   "cell_type": "markdown",
   "metadata": {},
   "source": [
    "### Transforming target"
   ]
  },
  {
   "cell_type": "code",
   "execution_count": 4,
   "metadata": {},
   "outputs": [],
   "source": [
    "data = pd.read_sql(\n",
    "    \"\"\"\n",
    "    select ticker, date, ret, roeq, mom12m\n",
    "    from data\n",
    "    where date='2021-12'\n",
    "    \"\"\", \n",
    "    conn\n",
    ")\n",
    "data = data.dropna()\n",
    "data[\"rnk\"] = data."
   ]
  },
  {
   "cell_type": "code",
   "execution_count": 8,
   "metadata": {},
   "outputs": [
    {
     "data": {
      "text/plain": [
       "0.10282019584138602"
      ]
     },
     "execution_count": 8,
     "metadata": {},
     "output_type": "execute_result"
    }
   ],
   "source": [
    "transform1 = QuantileTransformer(\n",
    "    output_distribution=\"normal\"\n",
    ")\n",
    "\n",
    "transform2 = QuantileTransformer(\n",
    "    output_distribution=\"normal\"\n",
    ")\n",
    "\n",
    "transform3 = QuantileTransformer(\n",
    "    output_distribution=\"normal\"\n",
    ")\n",
    "\n",
    "poly = PolynomialFeatures(degree=2)\n",
    "\n",
    "model = TransformedTargetRegressor(\n",
    "    regressor=RandomForestRegressor(random_state=0),\n",
    "    transformer=transform3\n",
    ")\n",
    "\n",
    "pipe = make_pipeline(\n",
    "  transform1,\n",
    "  poly,\n",
    "  transform2,\n",
    "  model\n",
    ")\n",
    "\n",
    "param_grid = {\n",
    "    \"transformedtargetregressor__regressor__max_depth\": [3, 4, 5]\n",
    "}\n",
    "\n",
    "cv = GridSearchCV(\n",
    "  pipe, \n",
    "  param_grid=param_grid\n",
    ")\n",
    "\n",
    "X = data[[\"roeq\", \"mom12m\"]]\n",
    "y = data[\"ret\"]\n",
    "\n",
    "cv.fit(X, y)\n",
    "cv.score(X, y)"
   ]
  },
  {
   "cell_type": "markdown",
   "metadata": {},
   "source": [
    "### Transforming target with industries"
   ]
  },
  {
   "cell_type": "code",
   "execution_count": 9,
   "metadata": {},
   "outputs": [],
   "source": [
    "data = pd.read_sql(\n",
    "    \"\"\"\n",
    "    select ticker, date, ret, roeq, mom12m, siccd\n",
    "    from data\n",
    "    where date='2021-12'\n",
    "    \"\"\", \n",
    "    conn\n",
    ")\n",
    "data = data.dropna()\n",
    "\n",
    "ff49 = pd.read_excel(\"files/ff49.xlsx\", index_col=0)\n",
    "def industry(sic):\n",
    "  try:\n",
    "    return ff49[(ff49.lower<=sic)&(sic<=ff49.upper)].index[0]\n",
    "  except:\n",
    "    return \"Almost Nothing\"\n",
    "    \n",
    "data[\"industry\"] = data.siccd.map(industry)"
   ]
  },
  {
   "cell_type": "code",
   "execution_count": 11,
   "metadata": {},
   "outputs": [
    {
     "data": {
      "text/plain": [
       "0.14457511396868217"
      ]
     },
     "execution_count": 11,
     "metadata": {},
     "output_type": "execute_result"
    }
   ],
   "source": [
    "transform1 = QuantileTransformer(\n",
    "    output_distribution=\"normal\"\n",
    ")\n",
    "\n",
    "transform2 = QuantileTransformer(\n",
    "    output_distribution=\"normal\"\n",
    ")\n",
    "\n",
    "transform3 = QuantileTransformer(\n",
    "    output_distribution=\"normal\"\n",
    ")\n",
    "\n",
    "poly = PolynomialFeatures(degree=2)\n",
    "\n",
    "numeric_transform = make_pipeline(\n",
    "  transform1,\n",
    "  poly,\n",
    "  transform2\n",
    ")\n",
    "\n",
    "category_transform = OneHotEncoder()\n",
    "\n",
    "feature_transform = make_column_transformer(\n",
    "  (numeric_transform, [\"roeq\", \"mom12m\"]),\n",
    "  (category_transform, [\"industry\"])\n",
    ")\n",
    "\n",
    "model = TransformedTargetRegressor(\n",
    "    regressor=RandomForestRegressor(random_state=0),\n",
    "    transformer=transform3\n",
    ")\n",
    "\n",
    "pipe = make_pipeline(\n",
    "  feature_transform,\n",
    "  model\n",
    ")\n",
    "\n",
    "param_grid = {\n",
    "    \"transformedtargetregressor__regressor__max_depth\": [3, 4, 5]\n",
    "}\n",
    "\n",
    "cv = GridSearchCV(\n",
    "  pipe, \n",
    "  param_grid=param_grid\n",
    ")\n",
    "\n",
    "X = data[[\"roeq\", \"mom12m\", \"industry\"]]\n",
    "y = data[\"ret\"]\n",
    "\n",
    "cv.fit(X, y)\n",
    "\n",
    "cv.score(X, y)"
   ]
  }
 ],
 "metadata": {
  "kernelspec": {
   "display_name": "Python 3.10.8 64-bit",
   "language": "python",
   "name": "python3"
  },
  "language_info": {
   "codemirror_mode": {
    "name": "ipython",
    "version": 3
   },
   "file_extension": ".py",
   "mimetype": "text/x-python",
   "name": "python",
   "nbconvert_exporter": "python",
   "pygments_lexer": "ipython3",
   "version": "3.10.8"
  },
  "orig_nbformat": 4,
  "vscode": {
   "interpreter": {
    "hash": "a98f34b6005ae2330f135078450db511ef8910ecc790235ef0560aa88aa6ce12"
   }
  }
 },
 "nbformat": 4,
 "nbformat_minor": 2
}
