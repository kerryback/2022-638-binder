{
 "cells": [
  {
   "cell_type": "code",
   "execution_count": 6,
   "metadata": {},
   "outputs": [],
   "source": [
    "import pandas as pd\n",
    "from sqlalchemy import create_engine\n",
    "import pymssql\n",
    "import statsmodels.formula.api as smf\n",
    "import numpy as np\n",
    "from pandas_datareader import DataReader as pdr\n",
    "from joblib import load\n",
    "from datetime import datetime, timedelta"
   ]
  },
  {
   "cell_type": "markdown",
   "metadata": {},
   "source": [
    "### Connect to daily updated database"
   ]
  },
  {
   "cell_type": "code",
   "execution_count": 7,
   "metadata": {},
   "outputs": [],
   "source": [
    "server = 'fs.rice.edu'\n",
    "database = 'stocks'\n",
    "username = 'stocks'\n",
    "password = '6LAZH1'\n",
    "\n",
    "string = \"mssql+pymssql://\" + username + \":\" + password + \"@\" + server + \"/\" + database \n",
    "conn = create_engine(string).connect()"
   ]
  },
  {
   "cell_type": "markdown",
   "metadata": {},
   "source": [
    "### Quarterly reports"
   ]
  },
  {
   "cell_type": "code",
   "execution_count": 55,
   "metadata": {},
   "outputs": [],
   "source": [
    "quarterly = pd.read_sql(\n",
    "    \"\"\"\n",
    "    select datekey, reportperiod, ticker, netinc, equity\n",
    "    from sf1\n",
    "    where dimension='ARQ' and equity>0\n",
    "    order by ticker, datekey\n",
    "    \"\"\",\n",
    "    conn\n",
    ")\n",
    "quarterly = quarterly.dropna()"
   ]
  },
  {
   "cell_type": "code",
   "execution_count": 56,
   "metadata": {},
   "outputs": [],
   "source": [
    "# calculate roeq\n",
    "\n",
    "quarterly[\"equitylag\"] = quarterly.groupby(\"ticker\").equity.shift()\n",
    "quarterly[\"roeq\"] = quarterly.netinc / quarterly.equitylag\n",
    "\n",
    "# save last report for each firm\n",
    "quarterly = quarterly.groupby(\"ticker\").last()\n",
    "quarterly = quarterly[quarterly.datekey.astype(str)>=\"2022-06-01\"]\n",
    "\n",
    "# drop variables other than roeq and ticker (ticker=index)\n",
    "quarterly = quarterly[[\"roeq\"]]"
   ]
  },
  {
   "cell_type": "code",
   "execution_count": 57,
   "metadata": {},
   "outputs": [],
   "source": [
    "annual = pd.read_sql(\n",
    "    \"\"\"\n",
    "    select datekey, reportperiod, ticker, netinc, ncfo, assets, assetsavg, equity,\n",
    "    equityavg, revenue, cor, liabilities, marketcap, sgna, intexp, sharesbas\n",
    "    from sf1\n",
    "    where dimension='ARY' and assets>0 and equity>0\n",
    "    order by ticker, datekey\n",
    "    \"\"\",\n",
    "    conn\n",
    ")\n",
    "annual = annual.dropna(subset=[\"ticker\"])"
   ]
  },
  {
   "cell_type": "code",
   "execution_count": 58,
   "metadata": {},
   "outputs": [],
   "source": [
    "# calculate predictors\n",
    "\n",
    "annual[\"equitylag\"] = annual.groupby(\"ticker\").equity.shift()\n",
    "annual[\"assetslag\"] = annual.groupby(\"ticker\").assets.shift()\n",
    "annual[\"acc\"] = (annual.netinc - annual.ncfo) / annual.assetsavg\n",
    "annual[\"agr\"] = annual.groupby(\"ticker\").assets.pct_change()\n",
    "annual[\"bm\"] = annual.equity / annual.marketcap\n",
    "annual[\"ep\"] = annual.netinc / annual.marketcap\n",
    "annual[\"gma\"] = (annual.revenue-annual.cor) / annual.assetslag\n",
    "annual[\"lev\"] = annual.liabilities / annual.marketcap\n",
    "annual[\"operprof\"] = (annual.revenue-annual.cor-annual.sgna-annual.intexp) / annual.equitylag\n",
    "\n",
    "# save last report for each firm\n",
    "\n",
    "annual = annual.groupby(\"ticker\").last()\n",
    "annual = annual[annual.datekey.astype(str) >= \"2021-09-01\"]\n",
    "\n",
    "# drop variables other than predictors and ticker (ticker=index)\n",
    "\n",
    "annual = annual[[\"acc\", \"agr\", \"bm\", \"ep\", \"gma\", \"lev\", \"operprof\"]]"
   ]
  },
  {
   "cell_type": "markdown",
   "metadata": {},
   "source": [
    "### Daily market data"
   ]
  },
  {
   "cell_type": "code",
   "execution_count": 73,
   "metadata": {},
   "outputs": [],
   "source": [
    "prices = pd.read_sql(\n",
    "    \"\"\"\n",
    "    select ticker, date, closeadj, close_, volume\n",
    "    from sep\n",
    "    where date>='2019-11-02'\n",
    "    order by ticker, date\n",
    "    \"\"\",\n",
    "    conn\n",
    ")\n",
    "prices = prices.dropna()\n",
    "prices[\"date\"] = pd.to_datetime(prices.date)"
   ]
  },
  {
   "cell_type": "markdown",
   "metadata": {},
   "source": [
    "### Weekly returns"
   ]
  },
  {
   "cell_type": "code",
   "execution_count": 74,
   "metadata": {},
   "outputs": [],
   "source": [
    "# define year and week for each row\n",
    "\n",
    "prices[\"year\"] = prices.date.apply(lambda x: x.isocalendar()[0])\n",
    "prices[\"week\"] = prices.date.apply(lambda x: x.isocalendar()[1])\n",
    "\n",
    "# find last day of each week\n",
    "\n",
    "week = prices.groupby([\"year\", \"week\"]).date.max()\n",
    "week.name = \"weekdate\"\n",
    "\n",
    "# keep only last day of each week\n",
    "\n",
    "prices = prices.merge(week, on=[\"year\", \"week\"])\n",
    "weekly = prices.groupby([\"ticker\", \"weekdate\"]).last()\n",
    "\n",
    "# compute weekly returns\n",
    "\n",
    "returns = weekly.groupby(\"ticker\").closeadj.pct_change()\n",
    "returns = returns.reset_index()\n",
    "returns.columns = [\"ticker\", \"date\", \"ret\"]"
   ]
  },
  {
   "cell_type": "markdown",
   "metadata": {},
   "source": [
    "### Beta and idiovol"
   ]
  },
  {
   "cell_type": "code",
   "execution_count": 75,
   "metadata": {},
   "outputs": [],
   "source": [
    "# get risk-free rate and market excess return from Kenneth French's data library\n",
    "\n",
    "factors = pdr(\"F-F_Research_Data_Factors_weekly\", \"famafrench\", start=2019)[0] / 100\n",
    "\n",
    "# merge into weekly returns and compute weekly excess returns\n",
    "\n",
    "returns = returns.merge(factors, left_on=\"date\", right_on=\"Date\")\n",
    "returns[\"ret\"] = returns.ret - returns.RF\n",
    "returns[\"mkt\"] = returns[\"Mkt-RF\"]\n",
    "\n",
    "# keep three years of returns\n",
    "\n",
    "returns = returns[returns.date >= \"2019-10-01\"].dropna()\n",
    "\n",
    "# run regressions to compute beta and idiosyncratic volatility for each stock\n",
    "\n",
    "def regr(d):\n",
    "    if d.shape[0] < 52:\n",
    "        return pd.Series(np.nan, index=[\"beta\", \"idiovol\"])\n",
    "    else:\n",
    "        model = smf.ols(\"ret ~ mkt\", data=d)\n",
    "        result = model.fit()\n",
    "        beta = result.params[\"mkt\"]\n",
    "        idiovol = np.sqrt(result.mse_resid)\n",
    "        return pd.Series([beta, idiovol], index=[\"beta\", \"idiovol\"])\n",
    "\n",
    "regression = returns.groupby(\"ticker\").apply(regr)\n"
   ]
  },
  {
   "cell_type": "markdown",
   "metadata": {},
   "source": [
    "### Momentum"
   ]
  },
  {
   "cell_type": "code",
   "execution_count": 76,
   "metadata": {},
   "outputs": [],
   "source": [
    "# keep only last year+ of data\n",
    "\n",
    "d = datetime(2022,10,27) - timedelta(days=400)\n",
    "prices = prices[prices.date>=d]\n",
    "\n",
    "# get adjusted prices 1 year + 1 day ago, 1 month + 1 day ago, and 1 day ago\n",
    "\n",
    "prices[\"price12m\"] = prices.groupby(\"ticker\").closeadj.shift(253)\n",
    "prices[\"price1m\"] = prices.groupby(\"ticker\").closeadj.shift(22)\n",
    "prices[\"price1d\"] = prices.groupby(\"ticker\").closeadj.shift(1)\n",
    "\n",
    "# return over last 12 months excluding most recent month\n",
    "\n",
    "prices[\"mom12m\"] = prices.price1m / prices.price12m - 1\n",
    "\n",
    "# return over most recent month\n",
    "\n",
    "prices[\"mom1m\"] = prices.price1d / prices.price1m - 1\n",
    "\n",
    "# keep only last momentum for each stock and ticker (ticker=index)\n",
    "\n",
    "momentum = prices[[\"ticker\", \"date\", \"mom12m\", \"mom1m\"]]\n",
    "momentum = momentum[momentum.date==momentum.date.max()]\n",
    "momentum = momentum.set_index(\"ticker\")[[\"mom12m\", \"mom1m\"]]"
   ]
  },
  {
   "cell_type": "markdown",
   "metadata": {},
   "source": [
    "### Closing prices"
   ]
  },
  {
   "cell_type": "code",
   "execution_count": 77,
   "metadata": {},
   "outputs": [],
   "source": [
    "prices = prices[prices.date==prices.date.max()][[\"ticker\", \"close_\"]]\n",
    "prices = prices.set_index(\"ticker\")\n",
    "prices.columns = [\"price\"]"
   ]
  },
  {
   "cell_type": "markdown",
   "metadata": {},
   "source": [
    "### Market cap"
   ]
  },
  {
   "cell_type": "code",
   "execution_count": 78,
   "metadata": {},
   "outputs": [],
   "source": [
    "mktcap = pd.read_sql(\n",
    "    \"\"\" \n",
    "    select date, ticker, marketcap\n",
    "    from daily\n",
    "    where date>='2022-12-06'\n",
    "    order by ticker, date\n",
    "    \"\"\",\n",
    "    conn\n",
    ")\n",
    "mktcap = mktcap.dropna()\n",
    "mktcap = mktcap.groupby(\"ticker\").last()\n",
    "mktcap[\"mve\"] = np.log(mktcap.marketcap)"
   ]
  },
  {
   "cell_type": "markdown",
   "metadata": {},
   "source": [
    "### Merge"
   ]
  },
  {
   "cell_type": "code",
   "execution_count": 79,
   "metadata": {},
   "outputs": [],
   "source": [
    "df = pd.concat((quarterly, annual, regression, momentum, prices, mktcap), axis=1)\n",
    "df = df.dropna()\n",
    "df = df[df.price > 5]"
   ]
  },
  {
   "cell_type": "markdown",
   "metadata": {},
   "source": [
    "### Load models and make predictions"
   ]
  },
  {
   "cell_type": "code",
   "execution_count": 84,
   "metadata": {},
   "outputs": [],
   "source": [
    "string = \"acc, agr, beta, bm, ep, gma, idiovol, lev, mom12m, mom1m, mve, operprof, roeq\"\n",
    "features = string.split(\", \")\n",
    "X = df[features]\n",
    "\n",
    "model = load(\"files\\model4.joblib\")\n",
    "df[\"predict4\"] = model.predict(X)\n",
    "\n",
    "model = load(\"files\\model5.joblib\")\n",
    "df[\"predict5\"] = model.predict(X)\n",
    "\n",
    "model = load(\"files\\model6.joblib\")\n",
    "df[\"predict6\"] = model.predict(X)\n",
    "\n",
    "df = df[[\"predict4\", \"predict5\", \"predict6\", \"price\"]]"
   ]
  },
  {
   "cell_type": "markdown",
   "metadata": {},
   "source": [
    "### Add some other data about the tickers and save"
   ]
  },
  {
   "cell_type": "code",
   "execution_count": 85,
   "metadata": {},
   "outputs": [],
   "source": [
    "df[\"shares\"] = 25000 / df.price\n",
    "\n",
    "ticks = pd.read_sql(\"select * from tickers\", conn)\n",
    "ticks = ticks.set_index(\"ticker\")\n",
    "\n",
    "df = df.merge(ticks, left_index=True, right_index=True, how=\"left\")\n",
    "\n",
    "df.to_excel(\"files\\predictions.xlsx\")"
   ]
  }
 ],
 "metadata": {
  "kernelspec": {
   "display_name": "Python 3.10.8 64-bit",
   "language": "python",
   "name": "python3"
  },
  "language_info": {
   "codemirror_mode": {
    "name": "ipython",
    "version": 3
   },
   "file_extension": ".py",
   "mimetype": "text/x-python",
   "name": "python",
   "nbconvert_exporter": "python",
   "pygments_lexer": "ipython3",
   "version": "3.10.8"
  },
  "orig_nbformat": 4,
  "vscode": {
   "interpreter": {
    "hash": "a98f34b6005ae2330f135078450db511ef8910ecc790235ef0560aa88aa6ce12"
   }
  }
 },
 "nbformat": 4,
 "nbformat_minor": 2
}
