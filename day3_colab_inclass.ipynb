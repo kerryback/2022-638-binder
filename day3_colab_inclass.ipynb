{
  "cells": [
    {
      "cell_type": "code",
      "execution_count": 1,
      "metadata": {
        "id": "AOavxhYTkvLy",
        "outputId": "60a0fb61-517d-49be-f0e0-e54cddc11041",
        "colab": {
          "base_uri": "https://localhost:8080/"
        }
      },
      "outputs": [
        {
          "output_type": "stream",
          "name": "stdout",
          "text": [
            "Looking in indexes: https://pypi.org/simple, https://us-python.pkg.dev/colab-wheels/public/simple/\n",
            "Collecting pymssql\n",
            "  Downloading pymssql-2.2.5-cp37-cp37m-manylinux_2_24_x86_64.whl (2.6 MB)\n",
            "\u001b[K     |████████████████████████████████| 2.6 MB 7.5 MB/s \n",
            "\u001b[?25hInstalling collected packages: pymssql\n",
            "Successfully installed pymssql-2.2.5\n"
          ]
        }
      ],
      "source": [
        "!pip install pymssql"
      ]
    },
    {
      "cell_type": "code",
      "execution_count": 5,
      "metadata": {
        "id": "vlIelh6MkvL1"
      },
      "outputs": [],
      "source": [
        "from sqlalchemy import create_engine\n",
        "import pymssql\n",
        "import pandas as pd\n",
        "from sklearn.ensemble import RandomForestRegressor\n",
        "import numpy as np\n",
        "from joblib import dump, load"
      ]
    },
    {
      "cell_type": "code",
      "execution_count": 6,
      "metadata": {
        "id": "jQRM7MHTkvL4"
      },
      "outputs": [],
      "source": [
        "\n",
        "server = \"mssql-82792-0.cloudclusters.net:16272\"\n",
        "username = \"user\"\n",
        "password = \"RiceOwls1912\" # paste password between quote marks\n",
        "database = \"ghz\"\n",
        "\n",
        "string = \"mssql+pymssql://\" + username + \":\" + password + \"@\" + server + \"/\" + database\n",
        "\n",
        "conn = create_engine(string).connect()"
      ]
    },
    {
      "cell_type": "code",
      "execution_count": 8,
      "metadata": {
        "id": "UuiJ52ZAkvL4"
      },
      "outputs": [],
      "source": [
        "\n",
        "data = pd.read_sql(\n",
        "    \"\"\"\n",
        "    select ticker, date, ret, roeq, mom12m\n",
        "    from data\n",
        "    where date>='2021-01' and date<='2021-12'\n",
        "    \"\"\", \n",
        "    conn\n",
        ")\n",
        "data = data.dropna().copy()\n",
        "data['rnk'] = data.ret.rank(pct=True)"
      ]
    },
    {
      "cell_type": "code",
      "source": [
        "data2 = pd.read_sql(\n",
        "    \"\"\"\n",
        "    select ticker, date, ret, roeq, mom12m\n",
        "    from data\n",
        "    where date='2022-01'\n",
        "    \"\"\", \n",
        "    conn\n",
        ")\n",
        "data2 = data2.dropna().copy()\n",
        "data2['rnk'] = data2.ret.rank(pct=True)"
      ],
      "metadata": {
        "id": "Id8yDS5Umrpl"
      },
      "execution_count": 17,
      "outputs": []
    },
    {
      "cell_type": "code",
      "source": [
        "Xnew = data2[[\"roeq\", \"mom12m\"]]\n",
        "ynew = data2[\"rnk\"]\n",
        "data2[\"predict\"] = model.predict(Xnew)"
      ],
      "metadata": {
        "id": "oJBwNr84m8ZK"
      },
      "execution_count": 19,
      "outputs": []
    },
    {
      "cell_type": "code",
      "source": [
        "data2=data2.sort_values(by=\"predict\")\n",
        "data2.head()"
      ],
      "metadata": {
        "id": "Vn2DlrY8oEZT",
        "outputId": "6d81b8ae-d3b7-4622-ceb8-0366de9eacfa",
        "colab": {
          "base_uri": "https://localhost:8080/",
          "height": 206
        }
      },
      "execution_count": 21,
      "outputs": [
        {
          "output_type": "execute_result",
          "data": {
            "text/plain": [
              "     ticker     date       ret      roeq    mom12m       rnk   predict\n",
              "1903   SAVA  2022-01  0.012586 -0.018226  6.843108  0.777917  0.382634\n",
              "1431   STCN  2022-01 -0.200000 -0.201136  1.007624  0.102468  0.389717\n",
              "974     LEE  2022-01  0.059641 -0.217982  0.969048  0.902969  0.390026\n",
              "903     BRN  2022-01 -0.068729 -2.057875  0.976378  0.456294  0.391813\n",
              "277    ORMP  2022-01 -0.372549 -0.105315  3.533019  0.012965  0.391896"
            ],
            "text/html": [
              "\n",
              "  <div id=\"df-a2a9fc2f-8384-4dcf-9067-5ad2d67f65ef\">\n",
              "    <div class=\"colab-df-container\">\n",
              "      <div>\n",
              "<style scoped>\n",
              "    .dataframe tbody tr th:only-of-type {\n",
              "        vertical-align: middle;\n",
              "    }\n",
              "\n",
              "    .dataframe tbody tr th {\n",
              "        vertical-align: top;\n",
              "    }\n",
              "\n",
              "    .dataframe thead th {\n",
              "        text-align: right;\n",
              "    }\n",
              "</style>\n",
              "<table border=\"1\" class=\"dataframe\">\n",
              "  <thead>\n",
              "    <tr style=\"text-align: right;\">\n",
              "      <th></th>\n",
              "      <th>ticker</th>\n",
              "      <th>date</th>\n",
              "      <th>ret</th>\n",
              "      <th>roeq</th>\n",
              "      <th>mom12m</th>\n",
              "      <th>rnk</th>\n",
              "      <th>predict</th>\n",
              "    </tr>\n",
              "  </thead>\n",
              "  <tbody>\n",
              "    <tr>\n",
              "      <th>1903</th>\n",
              "      <td>SAVA</td>\n",
              "      <td>2022-01</td>\n",
              "      <td>0.012586</td>\n",
              "      <td>-0.018226</td>\n",
              "      <td>6.843108</td>\n",
              "      <td>0.777917</td>\n",
              "      <td>0.382634</td>\n",
              "    </tr>\n",
              "    <tr>\n",
              "      <th>1431</th>\n",
              "      <td>STCN</td>\n",
              "      <td>2022-01</td>\n",
              "      <td>-0.200000</td>\n",
              "      <td>-0.201136</td>\n",
              "      <td>1.007624</td>\n",
              "      <td>0.102468</td>\n",
              "      <td>0.389717</td>\n",
              "    </tr>\n",
              "    <tr>\n",
              "      <th>974</th>\n",
              "      <td>LEE</td>\n",
              "      <td>2022-01</td>\n",
              "      <td>0.059641</td>\n",
              "      <td>-0.217982</td>\n",
              "      <td>0.969048</td>\n",
              "      <td>0.902969</td>\n",
              "      <td>0.390026</td>\n",
              "    </tr>\n",
              "    <tr>\n",
              "      <th>903</th>\n",
              "      <td>BRN</td>\n",
              "      <td>2022-01</td>\n",
              "      <td>-0.068729</td>\n",
              "      <td>-2.057875</td>\n",
              "      <td>0.976378</td>\n",
              "      <td>0.456294</td>\n",
              "      <td>0.391813</td>\n",
              "    </tr>\n",
              "    <tr>\n",
              "      <th>277</th>\n",
              "      <td>ORMP</td>\n",
              "      <td>2022-01</td>\n",
              "      <td>-0.372549</td>\n",
              "      <td>-0.105315</td>\n",
              "      <td>3.533019</td>\n",
              "      <td>0.012965</td>\n",
              "      <td>0.391896</td>\n",
              "    </tr>\n",
              "  </tbody>\n",
              "</table>\n",
              "</div>\n",
              "      <button class=\"colab-df-convert\" onclick=\"convertToInteractive('df-a2a9fc2f-8384-4dcf-9067-5ad2d67f65ef')\"\n",
              "              title=\"Convert this dataframe to an interactive table.\"\n",
              "              style=\"display:none;\">\n",
              "        \n",
              "  <svg xmlns=\"http://www.w3.org/2000/svg\" height=\"24px\"viewBox=\"0 0 24 24\"\n",
              "       width=\"24px\">\n",
              "    <path d=\"M0 0h24v24H0V0z\" fill=\"none\"/>\n",
              "    <path d=\"M18.56 5.44l.94 2.06.94-2.06 2.06-.94-2.06-.94-.94-2.06-.94 2.06-2.06.94zm-11 1L8.5 8.5l.94-2.06 2.06-.94-2.06-.94L8.5 2.5l-.94 2.06-2.06.94zm10 10l.94 2.06.94-2.06 2.06-.94-2.06-.94-.94-2.06-.94 2.06-2.06.94z\"/><path d=\"M17.41 7.96l-1.37-1.37c-.4-.4-.92-.59-1.43-.59-.52 0-1.04.2-1.43.59L10.3 9.45l-7.72 7.72c-.78.78-.78 2.05 0 2.83L4 21.41c.39.39.9.59 1.41.59.51 0 1.02-.2 1.41-.59l7.78-7.78 2.81-2.81c.8-.78.8-2.07 0-2.86zM5.41 20L4 18.59l7.72-7.72 1.47 1.35L5.41 20z\"/>\n",
              "  </svg>\n",
              "      </button>\n",
              "      \n",
              "  <style>\n",
              "    .colab-df-container {\n",
              "      display:flex;\n",
              "      flex-wrap:wrap;\n",
              "      gap: 12px;\n",
              "    }\n",
              "\n",
              "    .colab-df-convert {\n",
              "      background-color: #E8F0FE;\n",
              "      border: none;\n",
              "      border-radius: 50%;\n",
              "      cursor: pointer;\n",
              "      display: none;\n",
              "      fill: #1967D2;\n",
              "      height: 32px;\n",
              "      padding: 0 0 0 0;\n",
              "      width: 32px;\n",
              "    }\n",
              "\n",
              "    .colab-df-convert:hover {\n",
              "      background-color: #E2EBFA;\n",
              "      box-shadow: 0px 1px 2px rgba(60, 64, 67, 0.3), 0px 1px 3px 1px rgba(60, 64, 67, 0.15);\n",
              "      fill: #174EA6;\n",
              "    }\n",
              "\n",
              "    [theme=dark] .colab-df-convert {\n",
              "      background-color: #3B4455;\n",
              "      fill: #D2E3FC;\n",
              "    }\n",
              "\n",
              "    [theme=dark] .colab-df-convert:hover {\n",
              "      background-color: #434B5C;\n",
              "      box-shadow: 0px 1px 3px 1px rgba(0, 0, 0, 0.15);\n",
              "      filter: drop-shadow(0px 1px 2px rgba(0, 0, 0, 0.3));\n",
              "      fill: #FFFFFF;\n",
              "    }\n",
              "  </style>\n",
              "\n",
              "      <script>\n",
              "        const buttonEl =\n",
              "          document.querySelector('#df-a2a9fc2f-8384-4dcf-9067-5ad2d67f65ef button.colab-df-convert');\n",
              "        buttonEl.style.display =\n",
              "          google.colab.kernel.accessAllowed ? 'block' : 'none';\n",
              "\n",
              "        async function convertToInteractive(key) {\n",
              "          const element = document.querySelector('#df-a2a9fc2f-8384-4dcf-9067-5ad2d67f65ef');\n",
              "          const dataTable =\n",
              "            await google.colab.kernel.invokeFunction('convertToInteractive',\n",
              "                                                     [key], {});\n",
              "          if (!dataTable) return;\n",
              "\n",
              "          const docLinkHtml = 'Like what you see? Visit the ' +\n",
              "            '<a target=\"_blank\" href=https://colab.research.google.com/notebooks/data_table.ipynb>data table notebook</a>'\n",
              "            + ' to learn more about interactive tables.';\n",
              "          element.innerHTML = '';\n",
              "          dataTable['output_type'] = 'display_data';\n",
              "          await google.colab.output.renderOutput(dataTable, element);\n",
              "          const docLink = document.createElement('div');\n",
              "          docLink.innerHTML = docLinkHtml;\n",
              "          element.appendChild(docLink);\n",
              "        }\n",
              "      </script>\n",
              "    </div>\n",
              "  </div>\n",
              "  "
            ]
          },
          "metadata": {},
          "execution_count": 21
        }
      ]
    },
    {
      "cell_type": "code",
      "source": [
        "data2.iloc[:100].ret.mean()"
      ],
      "metadata": {
        "id": "SlcZYPnLopLd",
        "outputId": "7451f9f9-833f-45aa-8021-b796681eb735",
        "colab": {
          "base_uri": "https://localhost:8080/"
        }
      },
      "execution_count": 22,
      "outputs": [
        {
          "output_type": "execute_result",
          "data": {
            "text/plain": [
              "-0.1252562197658699"
            ]
          },
          "metadata": {},
          "execution_count": 22
        }
      ]
    },
    {
      "cell_type": "code",
      "source": [
        "data2.iloc[-100:].ret.mean()"
      ],
      "metadata": {
        "id": "EMDecy2KpFmP",
        "outputId": "b6d6ba3b-f37f-41cc-f8d8-c58899d6a5bc",
        "colab": {
          "base_uri": "https://localhost:8080/"
        }
      },
      "execution_count": 23,
      "outputs": [
        {
          "output_type": "execute_result",
          "data": {
            "text/plain": [
              "-0.03619473542319609"
            ]
          },
          "metadata": {},
          "execution_count": 23
        }
      ]
    },
    {
      "cell_type": "code",
      "execution_count": 14,
      "metadata": {
        "id": "2SrfiORykvL5",
        "outputId": "b711b5e6-c3f1-4691-c5b3-cd0bfac8305b",
        "colab": {
          "base_uri": "https://localhost:8080/"
        }
      },
      "outputs": [
        {
          "output_type": "execute_result",
          "data": {
            "text/plain": [
              "RandomForestRegressor(max_depth=4, random_state=0)"
            ]
          },
          "metadata": {},
          "execution_count": 14
        }
      ],
      "source": [
        "\n",
        "X = data[[\"roeq\", \"mom12m\"]]\n",
        "y = data[\"rnk\"]\n",
        "\n",
        "model = RandomForestRegressor(\n",
        "  max_depth=4,\n",
        "  random_state=0\n",
        ")\n",
        "model.fit(X,y)"
      ]
    },
    {
      "cell_type": "code",
      "execution_count": 15,
      "metadata": {
        "id": "AWR05O5ikvL5",
        "outputId": "e894b13f-0ddd-4146-d7d8-5e5a1ba64a83",
        "colab": {
          "base_uri": "https://localhost:8080/"
        }
      },
      "outputs": [
        {
          "output_type": "execute_result",
          "data": {
            "text/plain": [
              "0.024220226375491483"
            ]
          },
          "metadata": {},
          "execution_count": 15
        }
      ],
      "source": [
        "model.score(X,y)"
      ]
    },
    {
      "cell_type": "code",
      "execution_count": null,
      "metadata": {
        "id": "KoRPRWiNkvL5"
      },
      "outputs": [],
      "source": [
        "model.feature_importances_"
      ]
    },
    {
      "cell_type": "code",
      "execution_count": null,
      "metadata": {
        "id": "uGVO24A0kvL5"
      },
      "outputs": [],
      "source": [
        "x = np.array([.1, .4]).reshape(1,2)\n",
        "model.predict(x)"
      ]
    },
    {
      "cell_type": "code",
      "execution_count": null,
      "metadata": {
        "id": "CW9d_plnkvL6"
      },
      "outputs": [],
      "source": [
        "dump(model, \"forest1.joblib\")"
      ]
    },
    {
      "cell_type": "code",
      "execution_count": null,
      "metadata": {
        "id": "fHZrzF3HkvL6"
      },
      "outputs": [],
      "source": [
        "model = load(\"forest1.joblib\")"
      ]
    }
  ],
  "metadata": {
    "kernelspec": {
      "display_name": "Python 3.10.7 ('venv': venv)",
      "language": "python",
      "name": "python3"
    },
    "language_info": {
      "codemirror_mode": {
        "name": "ipython",
        "version": 3
      },
      "file_extension": ".py",
      "mimetype": "text/x-python",
      "name": "python",
      "nbconvert_exporter": "python",
      "pygments_lexer": "ipython3",
      "version": "3.10.7"
    },
    "orig_nbformat": 4,
    "vscode": {
      "interpreter": {
        "hash": "1dc87ca166c10d8ffefef8f6d063bce62d82d4e4e5d60ec42f8acf5b65b22026"
      }
    },
    "colab": {
      "provenance": []
    }
  },
  "nbformat": 4,
  "nbformat_minor": 0
}