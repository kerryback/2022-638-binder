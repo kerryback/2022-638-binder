{
  "cells": [
    {
      "cell_type": "code",
      "execution_count": 1,
      "metadata": {
        "id": "pBtArf61F6G_"
      },
      "outputs": [],
      "source": [
        "from sqlalchemy import create_engine\n",
        "import pymssql\n",
        "import pandas as pd\n",
        "from sklearn.ensemble import RandomForestRegressor\n",
        "import numpy as np\n",
        "from joblib import dump\n",
        "from pandas_datareader import DataReader as pdr"
      ]
    },
    {
      "cell_type": "markdown",
      "metadata": {},
      "source": [
        "### Get data"
      ]
    },
    {
      "cell_type": "code",
      "execution_count": 2,
      "metadata": {
        "id": "vSUFTQwKF6HA"
      },
      "outputs": [],
      "source": [
        "\n",
        "server = \"mssql-82792-0.cloudclusters.net:16272\"\n",
        "username = \"user\"\n",
        "password = \"RiceOwls1912\" # paste password between quote marks\n",
        "database = \"ghz\"\n",
        "\n",
        "string = \"mssql+pymssql://\" + username + \":\" + password + \"@\" + server + \"/\" + database\n",
        "\n",
        "conn = create_engine(string).connect()"
      ]
    },
    {
      "cell_type": "code",
      "execution_count": 3,
      "metadata": {
        "id": "bhg1BPOOF6HA"
      },
      "outputs": [],
      "source": [
        "\n",
        "data = pd.read_sql(\n",
        "    \"\"\"\n",
        "    select ticker, date, ret, acc, agr, beta, bm, ep, gma, \n",
        "    idiovol, lev, mom12m, mom1m, mve, operprof, roeq\n",
        "    from data\n",
        "    \"\"\", \n",
        "    conn\n",
        ")\n",
        "data = data.dropna().copy()"
      ]
    },
    {
      "cell_type": "markdown",
      "metadata": {},
      "source": [
        "### Get market returns\n",
        "\n",
        "Get market returns from Kenneth French's data library.  Redefine returns to be returns in excess of market return."
      ]
    },
    {
      "cell_type": "code",
      "execution_count": 4,
      "metadata": {
        "id": "gWsCnLWkILJM"
      },
      "outputs": [],
      "source": [
        "factors = pdr(\"F-F_Research_Data_Factors\", \"famafrench\", start=2000)[0] / 100\n",
        "factors = factors.reset_index()\n",
        "factors[\"Date\"] = factors[\"Date\"].astype(str)\n",
        "\n",
        "data = data.merge(factors, left_on=\"date\", right_on=\"Date\")\n",
        "data[\"ret\"] = data[\"ret\"] + data[\"RF\"] - data[\"Mkt-RF\"]"
      ]
    },
    {
      "cell_type": "markdown",
      "metadata": {},
      "source": [
        "### Define X and y"
      ]
    },
    {
      "cell_type": "code",
      "execution_count": 5,
      "metadata": {
        "id": "e7bWuboHF6HB"
      },
      "outputs": [],
      "source": [
        "string = \"acc, agr, beta, bm, ep, gma, idiovol, lev, mom12m, mom1m, mve, operprof, roeq\"\n",
        "features = string.split(\", \")\n",
        "\n",
        "X = data[features]\n",
        "y = data[\"ret\"]"
      ]
    },
    {
      "cell_type": "markdown",
      "metadata": {},
      "source": [
        "## Fit and save models\n",
        "\n",
        "Fit and save three random forest models, with depths = 4, 5, and 6."
      ]
    },
    {
      "cell_type": "code",
      "execution_count": 6,
      "metadata": {
        "colab": {
          "base_uri": "https://localhost:8080/"
        },
        "id": "LgTnmPrJF6HB",
        "outputId": "f079ac4c-26e8-4de2-9b4e-1da96277994c"
      },
      "outputs": [
        {
          "data": {
            "text/plain": [
              "['model4.joblib']"
            ]
          },
          "execution_count": 6,
          "metadata": {},
          "output_type": "execute_result"
        }
      ],
      "source": [
        "\n",
        "model = RandomForestRegressor(\n",
        "  max_depth=4,\n",
        "  random_state=0\n",
        ")\n",
        "model.fit(X, y)\n",
        "dump(model, \"model4.joblib\")"
      ]
    },
    {
      "cell_type": "code",
      "execution_count": 7,
      "metadata": {
        "colab": {
          "base_uri": "https://localhost:8080/"
        },
        "id": "9gYfMS5DNRLS",
        "outputId": "49ef29e5-d31a-4318-e30a-e4d4f52bcbf9"
      },
      "outputs": [
        {
          "data": {
            "text/plain": [
              "['model5.joblib']"
            ]
          },
          "execution_count": 7,
          "metadata": {},
          "output_type": "execute_result"
        }
      ],
      "source": [
        "model = RandomForestRegressor(\n",
        "  max_depth=5,\n",
        "  random_state=0\n",
        ")\n",
        "model.fit(X, y)\n",
        "dump(model, \"model5.joblib\")"
      ]
    },
    {
      "cell_type": "code",
      "execution_count": 8,
      "metadata": {
        "colab": {
          "base_uri": "https://localhost:8080/"
        },
        "id": "C6EAQ-NZNixG",
        "outputId": "84f11cc2-be2f-47c7-a78c-90d583115ed9"
      },
      "outputs": [
        {
          "data": {
            "text/plain": [
              "['model6.joblib']"
            ]
          },
          "execution_count": 8,
          "metadata": {},
          "output_type": "execute_result"
        }
      ],
      "source": [
        "model = RandomForestRegressor(\n",
        "  max_depth=6,\n",
        "  random_state=0\n",
        ")\n",
        "model.fit(X, y)\n",
        "dump(model, \"model6.joblib\")"
      ]
    }
  ],
  "metadata": {
    "colab": {
      "provenance": []
    },
    "kernelspec": {
      "display_name": "Python 3.10.8 64-bit",
      "language": "python",
      "name": "python3"
    },
    "language_info": {
      "codemirror_mode": {
        "name": "ipython",
        "version": 3
      },
      "file_extension": ".py",
      "mimetype": "text/x-python",
      "name": "python",
      "nbconvert_exporter": "python",
      "pygments_lexer": "ipython3",
      "version": "3.10.8"
    },
    "orig_nbformat": 4,
    "vscode": {
      "interpreter": {
        "hash": "a98f34b6005ae2330f135078450db511ef8910ecc790235ef0560aa88aa6ce12"
      }
    }
  },
  "nbformat": 4,
  "nbformat_minor": 0
}
