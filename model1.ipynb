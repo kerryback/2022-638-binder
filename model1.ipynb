{
  "cells": [
    {
      "cell_type": "code",
      "execution_count": 1,
      "metadata": {
        "id": "VFw2w4QIF6G8",
        "outputId": "86d2839c-9e91-4630-82b0-2855186a3518",
        "colab": {
          "base_uri": "https://localhost:8080/"
        }
      },
      "outputs": [
        {
          "output_type": "stream",
          "name": "stdout",
          "text": [
            "Looking in indexes: https://pypi.org/simple, https://us-python.pkg.dev/colab-wheels/public/simple/\n",
            "Collecting pymssql\n",
            "  Downloading pymssql-2.2.5-cp37-cp37m-manylinux_2_24_x86_64.whl (2.6 MB)\n",
            "\u001b[K     |████████████████████████████████| 2.6 MB 5.1 MB/s \n",
            "\u001b[?25hInstalling collected packages: pymssql\n",
            "Successfully installed pymssql-2.2.5\n"
          ]
        }
      ],
      "source": [
        "!pip install pymssql"
      ]
    },
    {
      "cell_type": "code",
      "execution_count": 2,
      "metadata": {
        "id": "pBtArf61F6G_"
      },
      "outputs": [],
      "source": [
        "from sqlalchemy import create_engine\n",
        "import pymssql\n",
        "import pandas as pd\n",
        "from sklearn.ensemble import RandomForestRegressor\n",
        "import numpy as np\n",
        "from joblib import dump"
      ]
    },
    {
      "cell_type": "code",
      "execution_count": 3,
      "metadata": {
        "id": "vSUFTQwKF6HA"
      },
      "outputs": [],
      "source": [
        "\n",
        "server = \"mssql-82792-0.cloudclusters.net:16272\"\n",
        "username = \"user\"\n",
        "password = \"RiceOwls1912\" # paste password between quote marks\n",
        "database = \"ghz\"\n",
        "\n",
        "string = \"mssql+pymssql://\" + username + \":\" + password + \"@\" + server + \"/\" + database\n",
        "\n",
        "conn = create_engine(string).connect()"
      ]
    },
    {
      "cell_type": "code",
      "execution_count": 8,
      "metadata": {
        "id": "bhg1BPOOF6HA"
      },
      "outputs": [],
      "source": [
        "\n",
        "data = pd.read_sql(\n",
        "    \"\"\"\n",
        "    select ticker, date, ret, acc, agr, bm, gma, lev, mom12m, mom1m, mve, roeq, turn, idiovol, beta\n",
        "    from data\n",
        "    where date>='2010-01'\n",
        "    \"\"\", \n",
        "    conn\n",
        ")\n",
        "data = data.dropna()"
      ]
    },
    {
      "cell_type": "code",
      "source": [
        "data[\"size\"] = data.groupby(\"date\").mve.rank(ascending=False)\n",
        "data = data[data[\"size\"]>=1000]\n",
        "data['rnk'] = data.groupby(\"date\").ret.rank(pct=True)\n",
        "data[\"xret\"] = data.groupby(\"date\").ret.apply(lambda x: x - x.median())"
      ],
      "metadata": {
        "id": "gWsCnLWkILJM"
      },
      "execution_count": 10,
      "outputs": []
    },
    {
      "cell_type": "code",
      "execution_count": 14,
      "metadata": {
        "id": "e7bWuboHF6HB"
      },
      "outputs": [],
      "source": [
        "string = \"acc, agr, bm, gma, lev, mom12m, mom1m, mve, roeq, turn, idiovol, beta\"\n",
        "features = string.split(\", \")\n",
        "X = data[features]"
      ]
    },
    {
      "cell_type": "code",
      "execution_count": 17,
      "metadata": {
        "id": "LgTnmPrJF6HB",
        "outputId": "f079ac4c-26e8-4de2-9b4e-1da96277994c",
        "colab": {
          "base_uri": "https://localhost:8080/"
        }
      },
      "outputs": [
        {
          "output_type": "execute_result",
          "data": {
            "text/plain": [
              "['model_rnk4.joblib']"
            ]
          },
          "metadata": {},
          "execution_count": 17
        }
      ],
      "source": [
        "y = data[\"rnk\"]\n",
        "model = RandomForestRegressor(\n",
        "  max_depth=4,\n",
        "  random_state=0\n",
        ")\n",
        "model.fit(X, y)\n",
        "dump(model, \"model_rnk4.joblib\")"
      ]
    },
    {
      "cell_type": "code",
      "source": [
        "model = RandomForestRegressor(\n",
        "  max_depth=6,\n",
        "  random_state=0\n",
        ")\n",
        "model.fit(X, y)\n",
        "dump(model, \"model_rnk6.joblib\")"
      ],
      "metadata": {
        "id": "9gYfMS5DNRLS",
        "outputId": "49ef29e5-d31a-4318-e30a-e4d4f52bcbf9",
        "colab": {
          "base_uri": "https://localhost:8080/"
        }
      },
      "execution_count": 18,
      "outputs": [
        {
          "output_type": "execute_result",
          "data": {
            "text/plain": [
              "['model_rnk6.joblib']"
            ]
          },
          "metadata": {},
          "execution_count": 18
        }
      ]
    },
    {
      "cell_type": "code",
      "source": [
        "y = data[\"xret\"]\n",
        "model = RandomForestRegressor(\n",
        "  max_depth=4,\n",
        "  random_state=0\n",
        ")\n",
        "model.fit(X, y)\n",
        "dump(model, \"model_ret4.joblib\")"
      ],
      "metadata": {
        "id": "C6EAQ-NZNixG",
        "outputId": "84f11cc2-be2f-47c7-a78c-90d583115ed9",
        "colab": {
          "base_uri": "https://localhost:8080/"
        }
      },
      "execution_count": 21,
      "outputs": [
        {
          "output_type": "execute_result",
          "data": {
            "text/plain": [
              "['model_ret4.joblib']"
            ]
          },
          "metadata": {},
          "execution_count": 21
        }
      ]
    },
    {
      "cell_type": "code",
      "source": [
        "model = RandomForestRegressor(\n",
        "  max_depth=6,\n",
        "  random_state=0\n",
        ")\n",
        "model.fit(X, y)\n",
        "dump(model, \"model_ret6.joblib\")"
      ],
      "metadata": {
        "id": "KHaOFe8LNvMP",
        "outputId": "04014bc4-b530-4fba-bfb6-1dfd2f706353",
        "colab": {
          "base_uri": "https://localhost:8080/"
        }
      },
      "execution_count": 22,
      "outputs": [
        {
          "output_type": "execute_result",
          "data": {
            "text/plain": [
              "['model_ret6.joblib']"
            ]
          },
          "metadata": {},
          "execution_count": 22
        }
      ]
    }
  ],
  "metadata": {
    "kernelspec": {
      "display_name": "Python 3.10.7 ('venv': venv)",
      "language": "python",
      "name": "python3"
    },
    "language_info": {
      "codemirror_mode": {
        "name": "ipython",
        "version": 3
      },
      "file_extension": ".py",
      "mimetype": "text/x-python",
      "name": "python",
      "nbconvert_exporter": "python",
      "pygments_lexer": "ipython3",
      "version": "3.10.7"
    },
    "orig_nbformat": 4,
    "vscode": {
      "interpreter": {
        "hash": "1dc87ca166c10d8ffefef8f6d063bce62d82d4e4e5d60ec42f8acf5b65b22026"
      }
    },
    "colab": {
      "provenance": []
    }
  },
  "nbformat": 4,
  "nbformat_minor": 0
}