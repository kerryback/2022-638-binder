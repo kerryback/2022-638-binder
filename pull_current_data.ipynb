{
 "cells": [
  {
   "cell_type": "code",
   "execution_count": 30,
   "metadata": {},
   "outputs": [],
   "source": [
    "import pandas as pd\n",
    "from sqlalchemy import create_engine\n",
    "import pymssql\n",
    "from joblib import load"
   ]
  },
  {
   "cell_type": "code",
   "execution_count": 31,
   "metadata": {},
   "outputs": [],
   "source": [
    "server = 'fs.rice.edu'\n",
    "database = 'stocks'\n",
    "username = 'stocks'\n",
    "password = '6LAZH1'\n",
    "\n",
    "string = \"mssql+pymssql://\" + username + \":\" + password + \"@\" + server + \"/\" + database \n",
    "conn = create_engine(string).connect()"
   ]
  },
  {
   "cell_type": "code",
   "execution_count": 32,
   "metadata": {},
   "outputs": [],
   "source": [
    "df = pd.read_sql(\"select * from today\", conn, parse_dates=[\"date\"])\n",
    "df.date = df.date.astype(str)\n",
    "df = df.set_index(\"ticker\")"
   ]
  },
  {
   "cell_type": "code",
   "execution_count": 33,
   "metadata": {},
   "outputs": [],
   "source": [
    "string = \"acc, agr, beta, bm, ep, gma, idiovol, lev, mom12m, mom1m, mve, operprof, roeq\"\n",
    "features = string.split(\", \")\n",
    "\n",
    "df = df.dropna(subset=features)\n",
    "X = df[features]\n",
    "\n",
    "model = load(\"files\\model4.joblib\")\n",
    "df[\"predict4\"] = model.predict(X)\n",
    "\n",
    "model = load(\"files\\model5.joblib\")\n",
    "df[\"predict5\"] = model.predict(X)\n",
    "\n",
    "model = load(\"files\\model6.joblib\")\n",
    "df[\"predict6\"] = model.predict(X)\n",
    "\n",
    "df.to_excel(\"files\\predictions.xlsx\")"
   ]
  }
 ],
 "metadata": {
  "kernelspec": {
   "display_name": "Python 3.10.8 64-bit",
   "language": "python",
   "name": "python3"
  },
  "language_info": {
   "codemirror_mode": {
    "name": "ipython",
    "version": 3
   },
   "file_extension": ".py",
   "mimetype": "text/x-python",
   "name": "python",
   "nbconvert_exporter": "python",
   "pygments_lexer": "ipython3",
   "version": "3.10.8"
  },
  "orig_nbformat": 4,
  "vscode": {
   "interpreter": {
    "hash": "a98f34b6005ae2330f135078450db511ef8910ecc790235ef0560aa88aa6ce12"
   }
  }
 },
 "nbformat": 4,
 "nbformat_minor": 2
}
