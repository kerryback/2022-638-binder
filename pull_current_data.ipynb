{
 "cells": [
  {
   "cell_type": "code",
   "execution_count": 24,
   "metadata": {},
   "outputs": [],
   "source": [
    "import pandas as pd\n",
    "from sqlalchemy import create_engine\n",
    "import pymssql\n",
    "from joblib import load"
   ]
  },
  {
   "cell_type": "code",
   "execution_count": 25,
   "metadata": {},
   "outputs": [],
   "source": [
    "server = 'fs.rice.edu'\n",
    "database = 'stocks'\n",
    "username = 'stocks'\n",
    "password = '6LAZH1'\n",
    "\n",
    "string = \"mssql+pymssql://\" + username + \":\" + password + \"@\" + server + \"/\" + database \n",
    "conn = create_engine(string).connect()"
   ]
  },
  {
   "cell_type": "code",
   "execution_count": 26,
   "metadata": {},
   "outputs": [],
   "source": [
    "df = pd.read_sql(\"select * from today\", conn, parse_dates=[\"date\"])\n",
    "df.date = df.date.astype(str)\n",
    "df = df.set_index(\"ticker\")"
   ]
  },
  {
   "cell_type": "code",
   "execution_count": 27,
   "metadata": {},
   "outputs": [],
   "source": [
    "string = \"acc, agr, beta, bm, ep, gma, idiovol, lev, mom12m, mom1m, mve, operprof, roeq\"\n",
    "features = string.split(\", \")\n",
    "\n",
    "df = df.dropna(subset=features)\n",
    "X = df[features]\n",
    "\n",
    "model = load(\"files\\model4.joblib\")\n",
    "df[\"predict4\"] = model.predict(X)\n",
    "\n",
    "model = load(\"files\\model5.joblib\")\n",
    "df[\"predict5\"] = model.predict(X)\n",
    "\n",
    "model = load(\"files\\model6.joblib\")\n",
    "df[\"predict6\"] = model.predict(X)\n",
    "\n",
    "df.to_excel(\"files\\predictions.xlsx\")"
   ]
  },
  {
   "cell_type": "code",
   "execution_count": 28,
   "metadata": {},
   "outputs": [
    {
     "name": "stdout",
     "output_type": "stream",
     "text": [
      "<class 'pandas.core.frame.DataFrame'>\n",
      "Index: 2240 entries, A to ZYXI\n",
      "Data columns (total 30 columns):\n",
      " #   Column          Non-Null Count  Dtype  \n",
      "---  ------          --------------  -----  \n",
      " 0   siccode         2240 non-null   int64  \n",
      " 1   date            2240 non-null   object \n",
      " 2   roeq            2240 non-null   float64\n",
      " 3   acc             2240 non-null   float64\n",
      " 4   agr             2240 non-null   float64\n",
      " 5   bm              2240 non-null   float64\n",
      " 6   ep              2240 non-null   float64\n",
      " 7   gma             2240 non-null   float64\n",
      " 8   lev             2240 non-null   float64\n",
      " 9   operprof        2240 non-null   float64\n",
      " 10  beta            2240 non-null   float64\n",
      " 11  idiovol         2240 non-null   float64\n",
      " 12  mom12m          2240 non-null   float64\n",
      " 13  mom1m           2240 non-null   float64\n",
      " 14  price           2240 non-null   float64\n",
      " 15  marketcap       2240 non-null   float64\n",
      " 16  mve             2240 non-null   float64\n",
      " 17  name            2240 non-null   object \n",
      " 18  exchange        2240 non-null   object \n",
      " 19  sicsector       2240 non-null   object \n",
      " 20  sicindustry     2240 non-null   object \n",
      " 21  famasector      0 non-null      object \n",
      " 22  famaindustry    2235 non-null   object \n",
      " 23  sector          2240 non-null   object \n",
      " 24  industry        2240 non-null   object \n",
      " 25  scalemarketcap  2240 non-null   object \n",
      " 26  scalerevenue    2205 non-null   object \n",
      " 27  predict4        2240 non-null   float64\n",
      " 28  predict5        2240 non-null   float64\n",
      " 29  predict6        2240 non-null   float64\n",
      "dtypes: float64(18), int64(1), object(11)\n",
      "memory usage: 542.5+ KB\n"
     ]
    }
   ],
   "source": [
    "df.info()"
   ]
  },
  {
   "cell_type": "code",
   "execution_count": 29,
   "metadata": {},
   "outputs": [
    {
     "data": {
      "text/plain": [
       "0"
      ]
     },
     "execution_count": 29,
     "metadata": {},
     "output_type": "execute_result"
    }
   ],
   "source": [
    "df.index.duplicated().sum()"
   ]
  }
 ],
 "metadata": {
  "kernelspec": {
   "display_name": "Python 3.10.8 64-bit",
   "language": "python",
   "name": "python3"
  },
  "language_info": {
   "codemirror_mode": {
    "name": "ipython",
    "version": 3
   },
   "file_extension": ".py",
   "mimetype": "text/x-python",
   "name": "python",
   "nbconvert_exporter": "python",
   "pygments_lexer": "ipython3",
   "version": "3.10.8"
  },
  "orig_nbformat": 4,
  "vscode": {
   "interpreter": {
    "hash": "a98f34b6005ae2330f135078450db511ef8910ecc790235ef0560aa88aa6ce12"
   }
  }
 },
 "nbformat": 4,
 "nbformat_minor": 2
}
