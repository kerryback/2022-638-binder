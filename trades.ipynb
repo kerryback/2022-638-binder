{
 "cells": [
  {
   "cell_type": "code",
   "execution_count": 14,
   "metadata": {},
   "outputs": [],
   "source": [
    "from modules.ranks import Ranks\n",
    "from modules.prices import Prices\n",
    "\n",
    "from datetime import datetime\n",
    "import pandas as pd\n",
    "import numpy as np\n",
    "from sqlalchemy import create_engine\n",
    "import pymssql"
   ]
  },
  {
   "cell_type": "markdown",
   "metadata": {},
   "source": [
    "### Enter data"
   ]
  },
  {
   "cell_type": "code",
   "execution_count": 6,
   "metadata": {},
   "outputs": [],
   "source": [
    "cash = 1000\n",
    "equity = 1000000\n",
    "\n",
    "model_file = \"files/model4.joblib\"\n",
    "stocktrak_file = \"files/OpenPosition_3_19_2022.csv\"\n",
    "\n",
    "# trade out of everything beyond threshold_rank\n",
    "threshold_rank = 300\n",
    "\n",
    "# target for positions\n",
    "target_weight = 1/42\n",
    "\n",
    "# max weight allowed, long or short\n",
    "threshold_weight = 0.04\n",
    "\n",
    "# trade when max weight exceeded \n",
    "#     if rank better than rebalance_rank: trade to target\n",
    "#     if rank worse than rebalance_rank: trade to zero\n",
    "rebalance_rank = 40\n",
    "\n",
    "# don't trade if trade size would be less than minimum\n",
    "minimum_investment = 0.01\n",
    "\n",
    "# trade to target if rank better than rebalance_rank and weight below topup_weight\n",
    "topup_weight = 0.01"
   ]
  },
  {
   "cell_type": "markdown",
   "metadata": {},
   "source": [
    "### Update prices, positions, ranks, equity, and weights"
   ]
  },
  {
   "cell_type": "code",
   "execution_count": null,
   "metadata": {},
   "outputs": [],
   "source": [
    "ranks = Ranks(model_file)"
   ]
  },
  {
   "cell_type": "code",
   "execution_count": 7,
   "metadata": {},
   "outputs": [
    {
     "name": "stdout",
     "output_type": "stream",
     "text": [
      "made connection\n",
      "got SQL data\n"
     ]
    }
   ],
   "source": [
    "prices = Prices(stocktrak_file)"
   ]
  },
  {
   "cell_type": "code",
   "execution_count": 8,
   "metadata": {},
   "outputs": [],
   "source": [
    "positions = pd.read_csv(stocktrak_file)\n",
    "positions = positions[[\"Symbol\", \"Quantity\"]]\n",
    "positions.columns = [\"ticker\", \"position\"]\n",
    "positions = positions.set_index(\"ticker\")\n",
    "positions = positions.squeeze()\n",
    "\n",
    "positions = positions.reindex(ranks.index).fillna(0)\n",
    "prices = prices.reindex(ranks.index)\n",
    "\n",
    "equity = cash + (positions*prices).sum()\n",
    "weights = (positions*prices) / equity"
   ]
  },
  {
   "cell_type": "markdown",
   "metadata": {},
   "source": [
    "### Long side"
   ]
  },
  {
   "cell_type": "code",
   "execution_count": 11,
   "metadata": {},
   "outputs": [],
   "source": [
    "sellall = ranks>threshold_rank\n",
    "sellall = sellall  | ((weights>threshold_weight) & (ranks>rebalance_rank))\n",
    "sellall = sellall & (positions>0)\n",
    "\n",
    "sellsome = (weights>threshold_weight) & (ranks<=rebalance_rank)\n",
    "sellsome = sellsome & (positions>0)\n",
    "sellsomeamounts = (equity*(weights-target_weight)/prices).astype(int)\n",
    "\n",
    "trades = - np.where(sellall, positions, 0)\n",
    "trades -= np.where(sellsome, sellsomeamounts, 0)\n",
    "trades = pd.Series(trades, index=ranks.index)\n",
    "\n",
    "temp = positions + trades\n",
    "longs = (temp*prices)[temp>0].sum()\n",
    "tickers = ranks.sort_values().index.to_list()\n",
    "\n",
    "if longs < equity:\n",
    "    toinvest = equity - longs\n",
    "    while toinvest >= minimum_investment*equity:\n",
    "        tick = tickers.pop(0)\n",
    "        if positions[tick] == 0:\n",
    "            dollars = min(toinvest, target_weight*equity)\n",
    "            trades[tick] = int(dollars/prices[tick])\n",
    "            toinvest -= trades[tick]*prices[tick]\n",
    "        elif weights[tick] < topup_weight:\n",
    "            dollars = min(cash, (target_weight-weights[tick])*equity)\n",
    "            trades[tick] = int(dollars/prices[tick])\n",
    "            toinvest -= trades[tick]*prices[tick]\n",
    "else :\n",
    "    tosell = longs - equity\n",
    "    while tosell >= minimum_investment*equity:\n",
    "        tick = tickers.pop()\n",
    "        if positions[tick] > 0:\n",
    "            trades[tick] = - positions[tick]\n",
    "            tosell += trades[tick]*prices[tick]"
   ]
  },
  {
   "cell_type": "markdown",
   "metadata": {},
   "source": [
    "### Short side"
   ]
  },
  {
   "cell_type": "code",
   "execution_count": 12,
   "metadata": {},
   "outputs": [],
   "source": [
    "shortranks = ranks.max() - ranks\n",
    "shortweights = - weights\n",
    "\n",
    "coverall = shortranks>threshold_rank\n",
    "coverall = coverall  | ((shortweights>threshold_weight) & (shortranks>rebalance_rank))\n",
    "coverall = coverall & (positions<0)\n",
    "\n",
    "coversome = (shortweights>threshold_weight) & (shortranks<=rebalance_rank)\n",
    "coversome = coversome & (positions<0)\n",
    "coversomeamounts = (equity*(shortweights-target_weight)/prices).astype(int)\n",
    "\n",
    "trades = trades.to_numpy()\n",
    "trades -= np.where(coverall, positions, 0)\n",
    "trades -= np.where(coversome, coversomeamounts, 0)\n",
    "trades = pd.Series(trades, index=ranks.index)\n",
    "\n",
    "temp = positions + trades\n",
    "shorts = -(temp*prices)[temp<0].sum()\n",
    "tickers = ranks.sort_values().index.to_list()\n",
    "\n",
    "if shorts < equity:\n",
    "    toshort = equity - shorts\n",
    "    while toshort >= minimum_investment*equity:\n",
    "        tick = tickers.pop(0)\n",
    "        if positions[tick] == 0:\n",
    "            dollars = min(toshort, target_weight*equity)\n",
    "            trades[tick] = -int(dollars/prices[tick])\n",
    "            toshort += trades[tick]*prices[tick]\n",
    "        elif shortweights[tick] < topup_weight:\n",
    "            dollars = min(toshort, (target_weight-shortweights[tick])*equity)\n",
    "            trades[tick] = -int(dollars/prices[tick])\n",
    "            toshort += trades[tick]*prices[tick]\n",
    "else :\n",
    "    tocover = shorts - equity\n",
    "    while tocover >= minimum_investment*equity:\n",
    "        tick = tickers.pop()\n",
    "        if positions[tick] < 0:\n",
    "            trades[tick] = - positions[tick]\n",
    "            tocover -= trades[tick]*prices[tick]\n",
    "\n"
   ]
  },
  {
   "cell_type": "code",
   "execution_count": 35,
   "metadata": {},
   "outputs": [],
   "source": [
    "output = pd.concat((ranks, positions, trades, prices), axis=1)\n",
    "output.columns = [\"rnk\", \"position\", \"trade\", \"price\"]\n",
    "\n",
    "server = 'fs.rice.edu'\n",
    "database = 'stocks'\n",
    "username = 'stocks'\n",
    "password = '6LAZH1'\n",
    "string = \"mssql+pymssql://\" + username + \":\" + password + \"@\" + server + \"/\" + database \n",
    "conn = create_engine(string).connect()\n",
    "\n",
    "info = pd.read_sql(\"select * from tickers\", conn).set_index(\"ticker\")\n",
    "info = info[~info.index.duplicated()]\n",
    "output = output.join(info, how=\"left\")\n",
    "output = output.sort_values(by=\"rnk\")\n",
    "\n",
    "today = datetime.today()\n",
    "today = today.strftime(\"%Y-%m-%d\")\n",
    "output.to_csv(\"files/output-\" + today + \".csv\")"
   ]
  }
 ],
 "metadata": {
  "kernelspec": {
   "display_name": "Python 3.10.8 ('venv': venv)",
   "language": "python",
   "name": "python3"
  },
  "language_info": {
   "codemirror_mode": {
    "name": "ipython",
    "version": 3
   },
   "file_extension": ".py",
   "mimetype": "text/x-python",
   "name": "python",
   "nbconvert_exporter": "python",
   "pygments_lexer": "ipython3",
   "version": "3.10.8"
  },
  "orig_nbformat": 4,
  "vscode": {
   "interpreter": {
    "hash": "b4698d42f8646fe93dd4243912c06191667cc35ff6930cd07513e2a757742af9"
   }
  }
 },
 "nbformat": 4,
 "nbformat_minor": 2
}
